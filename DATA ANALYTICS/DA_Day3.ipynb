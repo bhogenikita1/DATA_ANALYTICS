{
 "cells": [
  {
   "cell_type": "markdown",
   "id": "582a860d-3e37-4a9d-90df-ab85a275f40b",
   "metadata": {},
   "source": [
    "<B>##DATAFRAMES"
   ]
  },
  {
   "cell_type": "code",
   "execution_count": 1,
   "id": "c1913198-514d-4e29-8ab8-1d9dbc5c05e5",
   "metadata": {},
   "outputs": [],
   "source": [
    "import pandas as pd"
   ]
  },
  {
   "cell_type": "code",
   "execution_count": 2,
   "id": "a6e3ee2e-647d-4084-9c5a-5b334bef924b",
   "metadata": {},
   "outputs": [],
   "source": [
    "d1=[100,200,300,400,500]\n",
    "d2=[501,502,503,504,505]\n",
    "d3=['pune','mumbai','nashik','delhi','banglore']\n",
    "d4={'A':11,'B':12,'C':13,'D':14,'E':15}"
   ]
  },
  {
   "cell_type": "code",
   "execution_count": 3,
   "id": "2605378a-7f88-4dca-8772-a78dc9206a1b",
   "metadata": {},
   "outputs": [
    {
     "data": {
      "text/plain": [
       "0    100\n",
       "1    200\n",
       "2    300\n",
       "3    400\n",
       "4    500\n",
       "dtype: int64"
      ]
     },
     "execution_count": 3,
     "metadata": {},
     "output_type": "execute_result"
    }
   ],
   "source": [
    "pd.Series(d1)"
   ]
  },
  {
   "cell_type": "code",
   "execution_count": 10,
   "id": "49239e53-58da-4531-a12b-0d1596a37a30",
   "metadata": {},
   "outputs": [
    {
     "data": {
      "text/plain": [
       "pandas.core.series.Series"
      ]
     },
     "execution_count": 10,
     "metadata": {},
     "output_type": "execute_result"
    }
   ],
   "source": [
    "type(pd.Series(d1))"
   ]
  },
  {
   "cell_type": "code",
   "execution_count": 11,
   "id": "d6063bf0-d637-4eba-bc1d-126407c58793",
   "metadata": {},
   "outputs": [
    {
     "data": {
      "text/plain": [
       "100        pune\n",
       "200      mumbai\n",
       "300      nashik\n",
       "400       delhi\n",
       "500    banglore\n",
       "dtype: object"
      ]
     },
     "execution_count": 11,
     "metadata": {},
     "output_type": "execute_result"
    }
   ],
   "source": [
    "pd.Series(data=d3,index=d1)"
   ]
  },
  {
   "cell_type": "code",
   "execution_count": 12,
   "id": "5802d409-7d6f-4ac0-b921-55bbd1fa3acc",
   "metadata": {},
   "outputs": [
    {
     "data": {
      "text/plain": [
       "100        pune\n",
       "200      mumbai\n",
       "300      nashik\n",
       "400       delhi\n",
       "500    banglore\n",
       "dtype: object"
      ]
     },
     "execution_count": 12,
     "metadata": {},
     "output_type": "execute_result"
    }
   ],
   "source": [
    "pd.Series(d3,d1)"
   ]
  },
  {
   "cell_type": "code",
   "execution_count": 13,
   "id": "dc2ec49e-fd17-4903-b83b-3fdd3102d294",
   "metadata": {},
   "outputs": [
    {
     "data": {
      "text/plain": [
       "pune        100\n",
       "mumbai      200\n",
       "nashik      300\n",
       "delhi       400\n",
       "banglore    500\n",
       "dtype: int64"
      ]
     },
     "execution_count": 13,
     "metadata": {},
     "output_type": "execute_result"
    }
   ],
   "source": [
    "pd.Series(d1,d3)"
   ]
  },
  {
   "cell_type": "code",
   "execution_count": 16,
   "id": "1cd66d76-f632-41d8-bfa2-4529a96aed61",
   "metadata": {},
   "outputs": [
    {
     "data": {
      "text/plain": [
       "501        pune\n",
       "502      mumbai\n",
       "503      nashik\n",
       "504       delhi\n",
       "505    banglore\n",
       "dtype: object"
      ]
     },
     "execution_count": 16,
     "metadata": {},
     "output_type": "execute_result"
    }
   ],
   "source": [
    "pd.Series(d3,d2)"
   ]
  },
  {
   "cell_type": "code",
   "execution_count": 14,
   "id": "260d3850-5d51-4800-81f5-1d8115adc704",
   "metadata": {},
   "outputs": [
    {
     "data": {
      "text/plain": [
       "{'A': 11, 'B': 12, 'C': 13, 'D': 14, 'E': 15}"
      ]
     },
     "execution_count": 14,
     "metadata": {},
     "output_type": "execute_result"
    }
   ],
   "source": [
    "d4"
   ]
  },
  {
   "cell_type": "code",
   "execution_count": 15,
   "id": "93b8e44e-43a2-46ed-bd3a-c0691b2a4e2a",
   "metadata": {},
   "outputs": [
    {
     "data": {
      "text/plain": [
       "A    11\n",
       "B    12\n",
       "C    13\n",
       "D    14\n",
       "E    15\n",
       "dtype: int64"
      ]
     },
     "execution_count": 15,
     "metadata": {},
     "output_type": "execute_result"
    }
   ],
   "source": [
    "pd.Series(d4)"
   ]
  },
  {
   "cell_type": "code",
   "execution_count": 4,
   "id": "495169f6-df2a-4aaf-a4e9-2244ff8c5b55",
   "metadata": {},
   "outputs": [
    {
     "data": {
      "text/plain": [
       "A        pune\n",
       "B      mumbai\n",
       "C      nashik\n",
       "D       delhi\n",
       "E    banglore\n",
       "dtype: object"
      ]
     },
     "execution_count": 4,
     "metadata": {},
     "output_type": "execute_result"
    }
   ],
   "source": [
    "pd.Series(d3,d4)"
   ]
  },
  {
   "cell_type": "code",
   "execution_count": 5,
   "id": "74f4a052-8066-46a9-85f6-4ad6d481eebd",
   "metadata": {},
   "outputs": [
    {
     "data": {
      "text/plain": [
       "pune       NaN\n",
       "mumbai     NaN\n",
       "nashik     NaN\n",
       "delhi      NaN\n",
       "banglore   NaN\n",
       "dtype: float64"
      ]
     },
     "execution_count": 5,
     "metadata": {},
     "output_type": "execute_result"
    }
   ],
   "source": [
    "pd.Series(d4,d3)"
   ]
  },
  {
   "cell_type": "code",
   "execution_count": 50,
   "id": "f4697a35-c265-4afa-8931-96f324a5eedb",
   "metadata": {},
   "outputs": [],
   "source": [
    "s1=pd.Series([10,20,30,40,50],['pune','mumbai','nashik','delhi','banglore'])"
   ]
  },
  {
   "cell_type": "code",
   "execution_count": 51,
   "id": "62ee9fce-3d03-4373-afc5-322198191e68",
   "metadata": {},
   "outputs": [],
   "source": [
    "s2=pd.Series([10,20,30,40,50],['pune','mumbai','nashik','hyderabad','banglore'])"
   ]
  },
  {
   "cell_type": "code",
   "execution_count": 52,
   "id": "7673aebf-03d5-492f-995a-b34cabe4a858",
   "metadata": {},
   "outputs": [
    {
     "data": {
      "text/plain": [
       "pune        10\n",
       "mumbai      20\n",
       "nashik      30\n",
       "delhi       40\n",
       "banglore    50\n",
       "dtype: int64"
      ]
     },
     "execution_count": 52,
     "metadata": {},
     "output_type": "execute_result"
    }
   ],
   "source": [
    "s1"
   ]
  },
  {
   "cell_type": "code",
   "execution_count": 53,
   "id": "93937fcf-5739-4487-bd0a-5684e27ecbb7",
   "metadata": {},
   "outputs": [
    {
     "data": {
      "text/plain": [
       "pune         10\n",
       "mumbai       20\n",
       "nashik       30\n",
       "hyderabad    40\n",
       "banglore     50\n",
       "dtype: int64"
      ]
     },
     "execution_count": 53,
     "metadata": {},
     "output_type": "execute_result"
    }
   ],
   "source": [
    "s2"
   ]
  },
  {
   "cell_type": "code",
   "execution_count": 54,
   "id": "1ef1d284-cea4-4187-86fb-0f09244c0c6b",
   "metadata": {},
   "outputs": [
    {
     "data": {
      "text/plain": [
       "banglore     100.0\n",
       "delhi          NaN\n",
       "hyderabad      NaN\n",
       "mumbai        40.0\n",
       "nashik        60.0\n",
       "pune          20.0\n",
       "dtype: float64"
      ]
     },
     "execution_count": 54,
     "metadata": {},
     "output_type": "execute_result"
    }
   ],
   "source": [
    "s1+s2"
   ]
  },
  {
   "cell_type": "code",
   "execution_count": 37,
   "id": "434b9743-74f3-4f0c-a0f4-7f4f299f2ae1",
   "metadata": {},
   "outputs": [],
   "source": [
    "#Dataframes\n",
    "import numpy as np "
   ]
  },
  {
   "cell_type": "code",
   "execution_count": 38,
   "id": "a33244e6-6a4a-4bfa-be00-8d559b598084",
   "metadata": {},
   "outputs": [
    {
     "data": {
      "text/plain": [
       "array([[-1.25935403, -1.52665178, -0.43329769, -0.76599944],\n",
       "       [-0.37360762, -0.6668204 , -0.48168607,  0.94057282],\n",
       "       [-0.65320725,  0.40848198,  0.11849739,  0.46074316],\n",
       "       [ 1.25732617, -0.30368987, -0.69412497, -1.44773938],\n",
       "       [-0.1856279 , -0.95897331,  0.60345543, -1.31108988]])"
      ]
     },
     "execution_count": 38,
     "metadata": {},
     "output_type": "execute_result"
    }
   ],
   "source": [
    "np.random.randn(5,4)"
   ]
  },
  {
   "cell_type": "code",
   "execution_count": 39,
   "id": "d1d4fba9-9cb8-45e0-bba9-b1062b0fe678",
   "metadata": {},
   "outputs": [],
   "source": [
    "data=pd.DataFrame(np.random.randn(5,4),['A','B','C','D','E'],['W','X','Y','Z'])"
   ]
  },
  {
   "cell_type": "code",
   "execution_count": 40,
   "id": "79fdfa10-ceca-401d-b9c1-967ce8407599",
   "metadata": {},
   "outputs": [
    {
     "data": {
      "text/html": [
       "<div>\n",
       "<style scoped>\n",
       "    .dataframe tbody tr th:only-of-type {\n",
       "        vertical-align: middle;\n",
       "    }\n",
       "\n",
       "    .dataframe tbody tr th {\n",
       "        vertical-align: top;\n",
       "    }\n",
       "\n",
       "    .dataframe thead th {\n",
       "        text-align: right;\n",
       "    }\n",
       "</style>\n",
       "<table border=\"1\" class=\"dataframe\">\n",
       "  <thead>\n",
       "    <tr style=\"text-align: right;\">\n",
       "      <th></th>\n",
       "      <th>W</th>\n",
       "      <th>X</th>\n",
       "      <th>Y</th>\n",
       "      <th>Z</th>\n",
       "    </tr>\n",
       "  </thead>\n",
       "  <tbody>\n",
       "    <tr>\n",
       "      <th>A</th>\n",
       "      <td>-0.953661</td>\n",
       "      <td>0.297123</td>\n",
       "      <td>0.400042</td>\n",
       "      <td>0.142764</td>\n",
       "    </tr>\n",
       "    <tr>\n",
       "      <th>B</th>\n",
       "      <td>-0.153135</td>\n",
       "      <td>0.788925</td>\n",
       "      <td>-0.057703</td>\n",
       "      <td>-1.768406</td>\n",
       "    </tr>\n",
       "    <tr>\n",
       "      <th>C</th>\n",
       "      <td>-0.853867</td>\n",
       "      <td>-0.757030</td>\n",
       "      <td>-0.658223</td>\n",
       "      <td>-0.713466</td>\n",
       "    </tr>\n",
       "    <tr>\n",
       "      <th>D</th>\n",
       "      <td>1.809611</td>\n",
       "      <td>-0.919385</td>\n",
       "      <td>-1.012534</td>\n",
       "      <td>0.892330</td>\n",
       "    </tr>\n",
       "    <tr>\n",
       "      <th>E</th>\n",
       "      <td>1.157111</td>\n",
       "      <td>-1.307286</td>\n",
       "      <td>0.304047</td>\n",
       "      <td>1.125050</td>\n",
       "    </tr>\n",
       "  </tbody>\n",
       "</table>\n",
       "</div>"
      ],
      "text/plain": [
       "          W         X         Y         Z\n",
       "A -0.953661  0.297123  0.400042  0.142764\n",
       "B -0.153135  0.788925 -0.057703 -1.768406\n",
       "C -0.853867 -0.757030 -0.658223 -0.713466\n",
       "D  1.809611 -0.919385 -1.012534  0.892330\n",
       "E  1.157111 -1.307286  0.304047  1.125050"
      ]
     },
     "execution_count": 40,
     "metadata": {},
     "output_type": "execute_result"
    }
   ],
   "source": [
    "data"
   ]
  },
  {
   "cell_type": "code",
   "execution_count": 41,
   "id": "248de0c2-a2d9-422f-9b5b-a2c48d5253aa",
   "metadata": {},
   "outputs": [
    {
     "data": {
      "text/plain": [
       "W   -0.153135\n",
       "X    0.788925\n",
       "Y   -0.057703\n",
       "Z   -1.768406\n",
       "Name: B, dtype: float64"
      ]
     },
     "execution_count": 41,
     "metadata": {},
     "output_type": "execute_result"
    }
   ],
   "source": [
    "data.loc['B']"
   ]
  },
  {
   "cell_type": "code",
   "execution_count": 42,
   "id": "9fdc0ec8-ccd0-472e-9a30-fe8a39ba3818",
   "metadata": {},
   "outputs": [
    {
     "data": {
      "text/html": [
       "<div>\n",
       "<style scoped>\n",
       "    .dataframe tbody tr th:only-of-type {\n",
       "        vertical-align: middle;\n",
       "    }\n",
       "\n",
       "    .dataframe tbody tr th {\n",
       "        vertical-align: top;\n",
       "    }\n",
       "\n",
       "    .dataframe thead th {\n",
       "        text-align: right;\n",
       "    }\n",
       "</style>\n",
       "<table border=\"1\" class=\"dataframe\">\n",
       "  <thead>\n",
       "    <tr style=\"text-align: right;\">\n",
       "      <th></th>\n",
       "      <th>W</th>\n",
       "      <th>X</th>\n",
       "      <th>Z</th>\n",
       "    </tr>\n",
       "  </thead>\n",
       "  <tbody>\n",
       "    <tr>\n",
       "      <th>A</th>\n",
       "      <td>-0.953661</td>\n",
       "      <td>0.297123</td>\n",
       "      <td>0.142764</td>\n",
       "    </tr>\n",
       "    <tr>\n",
       "      <th>B</th>\n",
       "      <td>-0.153135</td>\n",
       "      <td>0.788925</td>\n",
       "      <td>-1.768406</td>\n",
       "    </tr>\n",
       "    <tr>\n",
       "      <th>C</th>\n",
       "      <td>-0.853867</td>\n",
       "      <td>-0.757030</td>\n",
       "      <td>-0.713466</td>\n",
       "    </tr>\n",
       "    <tr>\n",
       "      <th>D</th>\n",
       "      <td>1.809611</td>\n",
       "      <td>-0.919385</td>\n",
       "      <td>0.892330</td>\n",
       "    </tr>\n",
       "    <tr>\n",
       "      <th>E</th>\n",
       "      <td>1.157111</td>\n",
       "      <td>-1.307286</td>\n",
       "      <td>1.125050</td>\n",
       "    </tr>\n",
       "  </tbody>\n",
       "</table>\n",
       "</div>"
      ],
      "text/plain": [
       "          W         X         Z\n",
       "A -0.953661  0.297123  0.142764\n",
       "B -0.153135  0.788925 -1.768406\n",
       "C -0.853867 -0.757030 -0.713466\n",
       "D  1.809611 -0.919385  0.892330\n",
       "E  1.157111 -1.307286  1.125050"
      ]
     },
     "execution_count": 42,
     "metadata": {},
     "output_type": "execute_result"
    }
   ],
   "source": [
    "data[['W','X','Z']]"
   ]
  },
  {
   "cell_type": "code",
   "execution_count": 43,
   "id": "3770c827-ea37-48f7-a11f-1b667761f26f",
   "metadata": {},
   "outputs": [
    {
     "data": {
      "text/plain": [
       "pandas.core.frame.DataFrame"
      ]
     },
     "execution_count": 43,
     "metadata": {},
     "output_type": "execute_result"
    }
   ],
   "source": [
    "type(data)"
   ]
  },
  {
   "cell_type": "code",
   "execution_count": 44,
   "id": "160d257d-cbdf-49b8-8511-62622e6b5385",
   "metadata": {},
   "outputs": [
    {
     "data": {
      "text/plain": [
       "(5, 4)"
      ]
     },
     "execution_count": 44,
     "metadata": {},
     "output_type": "execute_result"
    }
   ],
   "source": [
    "data.shape"
   ]
  },
  {
   "cell_type": "code",
   "execution_count": 45,
   "id": "52a5e172-2dc9-4889-8e50-71aebd17cb99",
   "metadata": {},
   "outputs": [
    {
     "data": {
      "text/plain": [
       "A   -0.953661\n",
       "B   -0.153135\n",
       "C   -0.853867\n",
       "D    1.809611\n",
       "E    1.157111\n",
       "Name: W, dtype: float64"
      ]
     },
     "execution_count": 45,
     "metadata": {},
     "output_type": "execute_result"
    }
   ],
   "source": [
    "data['W']"
   ]
  },
  {
   "cell_type": "code",
   "execution_count": 46,
   "id": "15e846de-ff55-4b0e-adb4-aa4803105326",
   "metadata": {},
   "outputs": [
    {
     "data": {
      "text/plain": [
       "pandas.core.frame.DataFrame"
      ]
     },
     "execution_count": 46,
     "metadata": {},
     "output_type": "execute_result"
    }
   ],
   "source": [
    "type(data[['W','Y']])"
   ]
  },
  {
   "cell_type": "code",
   "execution_count": 47,
   "id": "892eedb8-3fca-40ab-af00-33a3d61950e6",
   "metadata": {},
   "outputs": [
    {
     "data": {
      "text/html": [
       "<div>\n",
       "<style scoped>\n",
       "    .dataframe tbody tr th:only-of-type {\n",
       "        vertical-align: middle;\n",
       "    }\n",
       "\n",
       "    .dataframe tbody tr th {\n",
       "        vertical-align: top;\n",
       "    }\n",
       "\n",
       "    .dataframe thead th {\n",
       "        text-align: right;\n",
       "    }\n",
       "</style>\n",
       "<table border=\"1\" class=\"dataframe\">\n",
       "  <thead>\n",
       "    <tr style=\"text-align: right;\">\n",
       "      <th></th>\n",
       "      <th>W</th>\n",
       "      <th>Y</th>\n",
       "      <th>Z</th>\n",
       "    </tr>\n",
       "  </thead>\n",
       "  <tbody>\n",
       "    <tr>\n",
       "      <th>A</th>\n",
       "      <td>-0.953661</td>\n",
       "      <td>0.400042</td>\n",
       "      <td>0.142764</td>\n",
       "    </tr>\n",
       "    <tr>\n",
       "      <th>B</th>\n",
       "      <td>-0.153135</td>\n",
       "      <td>-0.057703</td>\n",
       "      <td>-1.768406</td>\n",
       "    </tr>\n",
       "    <tr>\n",
       "      <th>C</th>\n",
       "      <td>-0.853867</td>\n",
       "      <td>-0.658223</td>\n",
       "      <td>-0.713466</td>\n",
       "    </tr>\n",
       "    <tr>\n",
       "      <th>D</th>\n",
       "      <td>1.809611</td>\n",
       "      <td>-1.012534</td>\n",
       "      <td>0.892330</td>\n",
       "    </tr>\n",
       "    <tr>\n",
       "      <th>E</th>\n",
       "      <td>1.157111</td>\n",
       "      <td>0.304047</td>\n",
       "      <td>1.125050</td>\n",
       "    </tr>\n",
       "  </tbody>\n",
       "</table>\n",
       "</div>"
      ],
      "text/plain": [
       "          W         Y         Z\n",
       "A -0.953661  0.400042  0.142764\n",
       "B -0.153135 -0.057703 -1.768406\n",
       "C -0.853867 -0.658223 -0.713466\n",
       "D  1.809611 -1.012534  0.892330\n",
       "E  1.157111  0.304047  1.125050"
      ]
     },
     "execution_count": 47,
     "metadata": {},
     "output_type": "execute_result"
    }
   ],
   "source": [
    "data[['W','Y','Z']]"
   ]
  },
  {
   "cell_type": "code",
   "execution_count": 48,
   "id": "64381b2c-2f3e-47a6-8ab6-ae5d680e6ae7",
   "metadata": {},
   "outputs": [
    {
     "data": {
      "text/plain": [
       "W   -0.153135\n",
       "X    0.788925\n",
       "Y   -0.057703\n",
       "Z   -1.768406\n",
       "Name: B, dtype: float64"
      ]
     },
     "execution_count": 48,
     "metadata": {},
     "output_type": "execute_result"
    }
   ],
   "source": [
    "data.loc['B']"
   ]
  },
  {
   "cell_type": "code",
   "execution_count": 49,
   "id": "45567575-2c94-482d-81d8-510dff51f82f",
   "metadata": {},
   "outputs": [
    {
     "data": {
      "text/plain": [
       "pandas.core.series.Series"
      ]
     },
     "execution_count": 49,
     "metadata": {},
     "output_type": "execute_result"
    }
   ],
   "source": [
    "type(data.loc['B'])"
   ]
  },
  {
   "cell_type": "code",
   "execution_count": 50,
   "id": "597260a9-978e-43ee-a66a-b32da8230efb",
   "metadata": {},
   "outputs": [
    {
     "data": {
      "text/plain": [
       "-0.05770252817932122"
      ]
     },
     "execution_count": 50,
     "metadata": {},
     "output_type": "execute_result"
    }
   ],
   "source": [
    "data.loc['B','Y']"
   ]
  },
  {
   "cell_type": "code",
   "execution_count": 51,
   "id": "805cb6e1-3138-4ead-ae22-8c036173897b",
   "metadata": {},
   "outputs": [
    {
     "data": {
      "text/plain": [
       "W   -0.153135\n",
       "X    0.788925\n",
       "Y   -0.057703\n",
       "Z   -1.768406\n",
       "Name: B, dtype: float64"
      ]
     },
     "execution_count": 51,
     "metadata": {},
     "output_type": "execute_result"
    }
   ],
   "source": [
    "data.iloc[1]"
   ]
  },
  {
   "cell_type": "code",
   "execution_count": 52,
   "id": "ee7d5fdc-4509-4c8f-b1d6-6ed963719179",
   "metadata": {},
   "outputs": [
    {
     "data": {
      "text/plain": [
       "A    False\n",
       "B    False\n",
       "C    False\n",
       "D     True\n",
       "E     True\n",
       "Name: W, dtype: bool"
      ]
     },
     "execution_count": 52,
     "metadata": {},
     "output_type": "execute_result"
    }
   ],
   "source": [
    "data['W']>0"
   ]
  },
  {
   "cell_type": "code",
   "execution_count": 53,
   "id": "f8f7622e-c930-4ee4-b2b8-f1f5d3bcbfd3",
   "metadata": {},
   "outputs": [
    {
     "data": {
      "text/html": [
       "<div>\n",
       "<style scoped>\n",
       "    .dataframe tbody tr th:only-of-type {\n",
       "        vertical-align: middle;\n",
       "    }\n",
       "\n",
       "    .dataframe tbody tr th {\n",
       "        vertical-align: top;\n",
       "    }\n",
       "\n",
       "    .dataframe thead th {\n",
       "        text-align: right;\n",
       "    }\n",
       "</style>\n",
       "<table border=\"1\" class=\"dataframe\">\n",
       "  <thead>\n",
       "    <tr style=\"text-align: right;\">\n",
       "      <th></th>\n",
       "      <th>W</th>\n",
       "      <th>X</th>\n",
       "      <th>Y</th>\n",
       "      <th>Z</th>\n",
       "    </tr>\n",
       "  </thead>\n",
       "  <tbody>\n",
       "    <tr>\n",
       "      <th>D</th>\n",
       "      <td>1.809611</td>\n",
       "      <td>-0.919385</td>\n",
       "      <td>-1.012534</td>\n",
       "      <td>0.89233</td>\n",
       "    </tr>\n",
       "    <tr>\n",
       "      <th>E</th>\n",
       "      <td>1.157111</td>\n",
       "      <td>-1.307286</td>\n",
       "      <td>0.304047</td>\n",
       "      <td>1.12505</td>\n",
       "    </tr>\n",
       "  </tbody>\n",
       "</table>\n",
       "</div>"
      ],
      "text/plain": [
       "          W         X         Y        Z\n",
       "D  1.809611 -0.919385 -1.012534  0.89233\n",
       "E  1.157111 -1.307286  0.304047  1.12505"
      ]
     },
     "execution_count": 53,
     "metadata": {},
     "output_type": "execute_result"
    }
   ],
   "source": [
    "data[data['W']>0]"
   ]
  },
  {
   "cell_type": "code",
   "execution_count": 58,
   "id": "0440f934-e18a-4bbe-af19-1578d479fdf0",
   "metadata": {},
   "outputs": [
    {
     "data": {
      "text/html": [
       "<div>\n",
       "<style scoped>\n",
       "    .dataframe tbody tr th:only-of-type {\n",
       "        vertical-align: middle;\n",
       "    }\n",
       "\n",
       "    .dataframe tbody tr th {\n",
       "        vertical-align: top;\n",
       "    }\n",
       "\n",
       "    .dataframe thead th {\n",
       "        text-align: right;\n",
       "    }\n",
       "</style>\n",
       "<table border=\"1\" class=\"dataframe\">\n",
       "  <thead>\n",
       "    <tr style=\"text-align: right;\">\n",
       "      <th></th>\n",
       "      <th>W</th>\n",
       "      <th>X</th>\n",
       "      <th>Y</th>\n",
       "      <th>Z</th>\n",
       "    </tr>\n",
       "  </thead>\n",
       "  <tbody>\n",
       "    <tr>\n",
       "      <th>A</th>\n",
       "      <td>-0.953661</td>\n",
       "      <td>0.297123</td>\n",
       "      <td>0.400042</td>\n",
       "      <td>0.142764</td>\n",
       "    </tr>\n",
       "    <tr>\n",
       "      <th>B</th>\n",
       "      <td>-0.153135</td>\n",
       "      <td>0.788925</td>\n",
       "      <td>-0.057703</td>\n",
       "      <td>-1.768406</td>\n",
       "    </tr>\n",
       "    <tr>\n",
       "      <th>C</th>\n",
       "      <td>-0.853867</td>\n",
       "      <td>-0.757030</td>\n",
       "      <td>-0.658223</td>\n",
       "      <td>-0.713466</td>\n",
       "    </tr>\n",
       "    <tr>\n",
       "      <th>D</th>\n",
       "      <td>1.809611</td>\n",
       "      <td>-0.919385</td>\n",
       "      <td>-1.012534</td>\n",
       "      <td>0.892330</td>\n",
       "    </tr>\n",
       "    <tr>\n",
       "      <th>E</th>\n",
       "      <td>1.157111</td>\n",
       "      <td>-1.307286</td>\n",
       "      <td>0.304047</td>\n",
       "      <td>1.125050</td>\n",
       "    </tr>\n",
       "  </tbody>\n",
       "</table>\n",
       "</div>"
      ],
      "text/plain": [
       "          W         X         Y         Z\n",
       "A -0.953661  0.297123  0.400042  0.142764\n",
       "B -0.153135  0.788925 -0.057703 -1.768406\n",
       "C -0.853867 -0.757030 -0.658223 -0.713466\n",
       "D  1.809611 -0.919385 -1.012534  0.892330\n",
       "E  1.157111 -1.307286  0.304047  1.125050"
      ]
     },
     "execution_count": 58,
     "metadata": {},
     "output_type": "execute_result"
    }
   ],
   "source": [
    "data"
   ]
  },
  {
   "cell_type": "code",
   "execution_count": 59,
   "id": "93f37046-1113-4f1c-97b8-e81a55dacc80",
   "metadata": {},
   "outputs": [
    {
     "data": {
      "text/plain": [
       "D    0.89233\n",
       "E    1.12505\n",
       "Name: Z, dtype: float64"
      ]
     },
     "execution_count": 59,
     "metadata": {},
     "output_type": "execute_result"
    }
   ],
   "source": [
    "data[data['W']>0]['Z']"
   ]
  },
  {
   "cell_type": "code",
   "execution_count": 60,
   "id": "c89cc482-e1f1-4351-9331-e30f57bc37c2",
   "metadata": {},
   "outputs": [
    {
     "data": {
      "text/html": [
       "<div>\n",
       "<style scoped>\n",
       "    .dataframe tbody tr th:only-of-type {\n",
       "        vertical-align: middle;\n",
       "    }\n",
       "\n",
       "    .dataframe tbody tr th {\n",
       "        vertical-align: top;\n",
       "    }\n",
       "\n",
       "    .dataframe thead th {\n",
       "        text-align: right;\n",
       "    }\n",
       "</style>\n",
       "<table border=\"1\" class=\"dataframe\">\n",
       "  <thead>\n",
       "    <tr style=\"text-align: right;\">\n",
       "      <th></th>\n",
       "      <th>Z</th>\n",
       "    </tr>\n",
       "  </thead>\n",
       "  <tbody>\n",
       "    <tr>\n",
       "      <th>D</th>\n",
       "      <td>0.89233</td>\n",
       "    </tr>\n",
       "    <tr>\n",
       "      <th>E</th>\n",
       "      <td>1.12505</td>\n",
       "    </tr>\n",
       "  </tbody>\n",
       "</table>\n",
       "</div>"
      ],
      "text/plain": [
       "         Z\n",
       "D  0.89233\n",
       "E  1.12505"
      ]
     },
     "execution_count": 60,
     "metadata": {},
     "output_type": "execute_result"
    }
   ],
   "source": [
    "data.loc[data['W']>0,['Z']]"
   ]
  },
  {
   "cell_type": "code",
   "execution_count": 61,
   "id": "693fbe95-b553-4189-8110-ad48fc8d633c",
   "metadata": {},
   "outputs": [
    {
     "data": {
      "text/plain": [
       "D   -1.012534\n",
       "E    0.304047\n",
       "Name: Y, dtype: float64"
      ]
     },
     "execution_count": 61,
     "metadata": {},
     "output_type": "execute_result"
    }
   ],
   "source": [
    "data.loc[(data['W']>1)&(data['X']<0),'Y']"
   ]
  },
  {
   "cell_type": "code",
   "execution_count": 62,
   "id": "45b077e5-1b0d-4bf8-97bd-42a2f978e463",
   "metadata": {},
   "outputs": [
    {
     "data": {
      "text/html": [
       "<div>\n",
       "<style scoped>\n",
       "    .dataframe tbody tr th:only-of-type {\n",
       "        vertical-align: middle;\n",
       "    }\n",
       "\n",
       "    .dataframe tbody tr th {\n",
       "        vertical-align: top;\n",
       "    }\n",
       "\n",
       "    .dataframe thead th {\n",
       "        text-align: right;\n",
       "    }\n",
       "</style>\n",
       "<table border=\"1\" class=\"dataframe\">\n",
       "  <thead>\n",
       "    <tr style=\"text-align: right;\">\n",
       "      <th></th>\n",
       "      <th>W</th>\n",
       "      <th>X</th>\n",
       "      <th>Y</th>\n",
       "      <th>Z</th>\n",
       "    </tr>\n",
       "  </thead>\n",
       "  <tbody>\n",
       "    <tr>\n",
       "      <th>A</th>\n",
       "      <td>-0.953661</td>\n",
       "      <td>0.297123</td>\n",
       "      <td>0.400042</td>\n",
       "      <td>0.142764</td>\n",
       "    </tr>\n",
       "    <tr>\n",
       "      <th>B</th>\n",
       "      <td>-0.153135</td>\n",
       "      <td>0.788925</td>\n",
       "      <td>-0.057703</td>\n",
       "      <td>-1.768406</td>\n",
       "    </tr>\n",
       "    <tr>\n",
       "      <th>C</th>\n",
       "      <td>-0.853867</td>\n",
       "      <td>-0.757030</td>\n",
       "      <td>-0.658223</td>\n",
       "      <td>-0.713466</td>\n",
       "    </tr>\n",
       "    <tr>\n",
       "      <th>D</th>\n",
       "      <td>1.809611</td>\n",
       "      <td>-0.919385</td>\n",
       "      <td>-1.012534</td>\n",
       "      <td>0.892330</td>\n",
       "    </tr>\n",
       "    <tr>\n",
       "      <th>E</th>\n",
       "      <td>1.157111</td>\n",
       "      <td>-1.307286</td>\n",
       "      <td>0.304047</td>\n",
       "      <td>1.125050</td>\n",
       "    </tr>\n",
       "  </tbody>\n",
       "</table>\n",
       "</div>"
      ],
      "text/plain": [
       "          W         X         Y         Z\n",
       "A -0.953661  0.297123  0.400042  0.142764\n",
       "B -0.153135  0.788925 -0.057703 -1.768406\n",
       "C -0.853867 -0.757030 -0.658223 -0.713466\n",
       "D  1.809611 -0.919385 -1.012534  0.892330\n",
       "E  1.157111 -1.307286  0.304047  1.125050"
      ]
     },
     "execution_count": 62,
     "metadata": {},
     "output_type": "execute_result"
    }
   ],
   "source": [
    "data"
   ]
  },
  {
   "cell_type": "code",
   "execution_count": 66,
   "id": "1792943b-835d-4df6-93da-e6628826b20c",
   "metadata": {},
   "outputs": [],
   "source": [
    "data['new_column']=data['W']+data['X']"
   ]
  },
  {
   "cell_type": "code",
   "execution_count": 67,
   "id": "81a5a504-9517-4c60-b9c3-5183bfbb5dc7",
   "metadata": {},
   "outputs": [
    {
     "data": {
      "text/html": [
       "<div>\n",
       "<style scoped>\n",
       "    .dataframe tbody tr th:only-of-type {\n",
       "        vertical-align: middle;\n",
       "    }\n",
       "\n",
       "    .dataframe tbody tr th {\n",
       "        vertical-align: top;\n",
       "    }\n",
       "\n",
       "    .dataframe thead th {\n",
       "        text-align: right;\n",
       "    }\n",
       "</style>\n",
       "<table border=\"1\" class=\"dataframe\">\n",
       "  <thead>\n",
       "    <tr style=\"text-align: right;\">\n",
       "      <th></th>\n",
       "      <th>W</th>\n",
       "      <th>X</th>\n",
       "      <th>Y</th>\n",
       "      <th>Z</th>\n",
       "      <th>new_column</th>\n",
       "    </tr>\n",
       "  </thead>\n",
       "  <tbody>\n",
       "    <tr>\n",
       "      <th>A</th>\n",
       "      <td>-0.953661</td>\n",
       "      <td>0.297123</td>\n",
       "      <td>0.400042</td>\n",
       "      <td>0.142764</td>\n",
       "      <td>-0.656538</td>\n",
       "    </tr>\n",
       "    <tr>\n",
       "      <th>B</th>\n",
       "      <td>-0.153135</td>\n",
       "      <td>0.788925</td>\n",
       "      <td>-0.057703</td>\n",
       "      <td>-1.768406</td>\n",
       "      <td>0.635790</td>\n",
       "    </tr>\n",
       "    <tr>\n",
       "      <th>C</th>\n",
       "      <td>-0.853867</td>\n",
       "      <td>-0.757030</td>\n",
       "      <td>-0.658223</td>\n",
       "      <td>-0.713466</td>\n",
       "      <td>-1.610897</td>\n",
       "    </tr>\n",
       "    <tr>\n",
       "      <th>D</th>\n",
       "      <td>1.809611</td>\n",
       "      <td>-0.919385</td>\n",
       "      <td>-1.012534</td>\n",
       "      <td>0.892330</td>\n",
       "      <td>0.890226</td>\n",
       "    </tr>\n",
       "    <tr>\n",
       "      <th>E</th>\n",
       "      <td>1.157111</td>\n",
       "      <td>-1.307286</td>\n",
       "      <td>0.304047</td>\n",
       "      <td>1.125050</td>\n",
       "      <td>-0.150175</td>\n",
       "    </tr>\n",
       "  </tbody>\n",
       "</table>\n",
       "</div>"
      ],
      "text/plain": [
       "          W         X         Y         Z  new_column\n",
       "A -0.953661  0.297123  0.400042  0.142764   -0.656538\n",
       "B -0.153135  0.788925 -0.057703 -1.768406    0.635790\n",
       "C -0.853867 -0.757030 -0.658223 -0.713466   -1.610897\n",
       "D  1.809611 -0.919385 -1.012534  0.892330    0.890226\n",
       "E  1.157111 -1.307286  0.304047  1.125050   -0.150175"
      ]
     },
     "execution_count": 67,
     "metadata": {},
     "output_type": "execute_result"
    }
   ],
   "source": [
    "data"
   ]
  },
  {
   "cell_type": "code",
   "execution_count": 70,
   "id": "d47b313e-6f60-4e24-a86a-bf108c1059c7",
   "metadata": {},
   "outputs": [
    {
     "data": {
      "text/html": [
       "<div>\n",
       "<style scoped>\n",
       "    .dataframe tbody tr th:only-of-type {\n",
       "        vertical-align: middle;\n",
       "    }\n",
       "\n",
       "    .dataframe tbody tr th {\n",
       "        vertical-align: top;\n",
       "    }\n",
       "\n",
       "    .dataframe thead th {\n",
       "        text-align: right;\n",
       "    }\n",
       "</style>\n",
       "<table border=\"1\" class=\"dataframe\">\n",
       "  <thead>\n",
       "    <tr style=\"text-align: right;\">\n",
       "      <th></th>\n",
       "      <th>W</th>\n",
       "      <th>X</th>\n",
       "      <th>Y</th>\n",
       "      <th>Z</th>\n",
       "    </tr>\n",
       "  </thead>\n",
       "  <tbody>\n",
       "    <tr>\n",
       "      <th>A</th>\n",
       "      <td>-0.953661</td>\n",
       "      <td>0.297123</td>\n",
       "      <td>0.400042</td>\n",
       "      <td>0.142764</td>\n",
       "    </tr>\n",
       "    <tr>\n",
       "      <th>B</th>\n",
       "      <td>-0.153135</td>\n",
       "      <td>0.788925</td>\n",
       "      <td>-0.057703</td>\n",
       "      <td>-1.768406</td>\n",
       "    </tr>\n",
       "    <tr>\n",
       "      <th>C</th>\n",
       "      <td>-0.853867</td>\n",
       "      <td>-0.757030</td>\n",
       "      <td>-0.658223</td>\n",
       "      <td>-0.713466</td>\n",
       "    </tr>\n",
       "    <tr>\n",
       "      <th>D</th>\n",
       "      <td>1.809611</td>\n",
       "      <td>-0.919385</td>\n",
       "      <td>-1.012534</td>\n",
       "      <td>0.892330</td>\n",
       "    </tr>\n",
       "    <tr>\n",
       "      <th>E</th>\n",
       "      <td>1.157111</td>\n",
       "      <td>-1.307286</td>\n",
       "      <td>0.304047</td>\n",
       "      <td>1.125050</td>\n",
       "    </tr>\n",
       "  </tbody>\n",
       "</table>\n",
       "</div>"
      ],
      "text/plain": [
       "          W         X         Y         Z\n",
       "A -0.953661  0.297123  0.400042  0.142764\n",
       "B -0.153135  0.788925 -0.057703 -1.768406\n",
       "C -0.853867 -0.757030 -0.658223 -0.713466\n",
       "D  1.809611 -0.919385 -1.012534  0.892330\n",
       "E  1.157111 -1.307286  0.304047  1.125050"
      ]
     },
     "execution_count": 70,
     "metadata": {},
     "output_type": "execute_result"
    }
   ],
   "source": [
    "data.drop('new_column',axis=1)"
   ]
  },
  {
   "cell_type": "code",
   "execution_count": 71,
   "id": "4003ad59-2273-4381-9cb3-978c2312bbfc",
   "metadata": {},
   "outputs": [
    {
     "data": {
      "text/html": [
       "<div>\n",
       "<style scoped>\n",
       "    .dataframe tbody tr th:only-of-type {\n",
       "        vertical-align: middle;\n",
       "    }\n",
       "\n",
       "    .dataframe tbody tr th {\n",
       "        vertical-align: top;\n",
       "    }\n",
       "\n",
       "    .dataframe thead th {\n",
       "        text-align: right;\n",
       "    }\n",
       "</style>\n",
       "<table border=\"1\" class=\"dataframe\">\n",
       "  <thead>\n",
       "    <tr style=\"text-align: right;\">\n",
       "      <th></th>\n",
       "      <th>W</th>\n",
       "      <th>X</th>\n",
       "      <th>Y</th>\n",
       "      <th>Z</th>\n",
       "      <th>new_column</th>\n",
       "    </tr>\n",
       "  </thead>\n",
       "  <tbody>\n",
       "    <tr>\n",
       "      <th>A</th>\n",
       "      <td>-0.953661</td>\n",
       "      <td>0.297123</td>\n",
       "      <td>0.400042</td>\n",
       "      <td>0.142764</td>\n",
       "      <td>-0.656538</td>\n",
       "    </tr>\n",
       "    <tr>\n",
       "      <th>B</th>\n",
       "      <td>-0.153135</td>\n",
       "      <td>0.788925</td>\n",
       "      <td>-0.057703</td>\n",
       "      <td>-1.768406</td>\n",
       "      <td>0.635790</td>\n",
       "    </tr>\n",
       "    <tr>\n",
       "      <th>C</th>\n",
       "      <td>-0.853867</td>\n",
       "      <td>-0.757030</td>\n",
       "      <td>-0.658223</td>\n",
       "      <td>-0.713466</td>\n",
       "      <td>-1.610897</td>\n",
       "    </tr>\n",
       "    <tr>\n",
       "      <th>D</th>\n",
       "      <td>1.809611</td>\n",
       "      <td>-0.919385</td>\n",
       "      <td>-1.012534</td>\n",
       "      <td>0.892330</td>\n",
       "      <td>0.890226</td>\n",
       "    </tr>\n",
       "    <tr>\n",
       "      <th>E</th>\n",
       "      <td>1.157111</td>\n",
       "      <td>-1.307286</td>\n",
       "      <td>0.304047</td>\n",
       "      <td>1.125050</td>\n",
       "      <td>-0.150175</td>\n",
       "    </tr>\n",
       "  </tbody>\n",
       "</table>\n",
       "</div>"
      ],
      "text/plain": [
       "          W         X         Y         Z  new_column\n",
       "A -0.953661  0.297123  0.400042  0.142764   -0.656538\n",
       "B -0.153135  0.788925 -0.057703 -1.768406    0.635790\n",
       "C -0.853867 -0.757030 -0.658223 -0.713466   -1.610897\n",
       "D  1.809611 -0.919385 -1.012534  0.892330    0.890226\n",
       "E  1.157111 -1.307286  0.304047  1.125050   -0.150175"
      ]
     },
     "execution_count": 71,
     "metadata": {},
     "output_type": "execute_result"
    }
   ],
   "source": [
    "data"
   ]
  },
  {
   "cell_type": "code",
   "execution_count": 72,
   "id": "dd4e8147-0f32-4ccd-b3d7-315d5868a861",
   "metadata": {},
   "outputs": [],
   "source": [
    "data.drop(\"new_column\",axis=1,inplace=True)"
   ]
  },
  {
   "cell_type": "code",
   "execution_count": 73,
   "id": "9e07d96f-63c9-4ceb-b70f-1a57a073c576",
   "metadata": {},
   "outputs": [
    {
     "data": {
      "text/html": [
       "<div>\n",
       "<style scoped>\n",
       "    .dataframe tbody tr th:only-of-type {\n",
       "        vertical-align: middle;\n",
       "    }\n",
       "\n",
       "    .dataframe tbody tr th {\n",
       "        vertical-align: top;\n",
       "    }\n",
       "\n",
       "    .dataframe thead th {\n",
       "        text-align: right;\n",
       "    }\n",
       "</style>\n",
       "<table border=\"1\" class=\"dataframe\">\n",
       "  <thead>\n",
       "    <tr style=\"text-align: right;\">\n",
       "      <th></th>\n",
       "      <th>W</th>\n",
       "      <th>X</th>\n",
       "      <th>Y</th>\n",
       "      <th>Z</th>\n",
       "    </tr>\n",
       "  </thead>\n",
       "  <tbody>\n",
       "    <tr>\n",
       "      <th>A</th>\n",
       "      <td>-0.953661</td>\n",
       "      <td>0.297123</td>\n",
       "      <td>0.400042</td>\n",
       "      <td>0.142764</td>\n",
       "    </tr>\n",
       "    <tr>\n",
       "      <th>B</th>\n",
       "      <td>-0.153135</td>\n",
       "      <td>0.788925</td>\n",
       "      <td>-0.057703</td>\n",
       "      <td>-1.768406</td>\n",
       "    </tr>\n",
       "    <tr>\n",
       "      <th>C</th>\n",
       "      <td>-0.853867</td>\n",
       "      <td>-0.757030</td>\n",
       "      <td>-0.658223</td>\n",
       "      <td>-0.713466</td>\n",
       "    </tr>\n",
       "    <tr>\n",
       "      <th>D</th>\n",
       "      <td>1.809611</td>\n",
       "      <td>-0.919385</td>\n",
       "      <td>-1.012534</td>\n",
       "      <td>0.892330</td>\n",
       "    </tr>\n",
       "    <tr>\n",
       "      <th>E</th>\n",
       "      <td>1.157111</td>\n",
       "      <td>-1.307286</td>\n",
       "      <td>0.304047</td>\n",
       "      <td>1.125050</td>\n",
       "    </tr>\n",
       "  </tbody>\n",
       "</table>\n",
       "</div>"
      ],
      "text/plain": [
       "          W         X         Y         Z\n",
       "A -0.953661  0.297123  0.400042  0.142764\n",
       "B -0.153135  0.788925 -0.057703 -1.768406\n",
       "C -0.853867 -0.757030 -0.658223 -0.713466\n",
       "D  1.809611 -0.919385 -1.012534  0.892330\n",
       "E  1.157111 -1.307286  0.304047  1.125050"
      ]
     },
     "execution_count": 73,
     "metadata": {},
     "output_type": "execute_result"
    }
   ],
   "source": [
    "data"
   ]
  },
  {
   "cell_type": "code",
   "execution_count": 74,
   "id": "7df35d2a-3dcf-45ca-b57c-b7876b61d925",
   "metadata": {},
   "outputs": [
    {
     "data": {
      "text/plain": [
       "['pune', 'mumbai', 'nashik', 'delhi', 'banglore']"
      ]
     },
     "execution_count": 74,
     "metadata": {},
     "output_type": "execute_result"
    }
   ],
   "source": [
    "d3"
   ]
  },
  {
   "cell_type": "code",
   "execution_count": 75,
   "id": "29b37ddb-5feb-48ae-a5d1-031f4e395e1d",
   "metadata": {},
   "outputs": [],
   "source": [
    "data.index=d3"
   ]
  },
  {
   "cell_type": "code",
   "execution_count": 76,
   "id": "9b367193-a519-4128-b6fc-cd02cd57ac67",
   "metadata": {},
   "outputs": [
    {
     "data": {
      "text/html": [
       "<div>\n",
       "<style scoped>\n",
       "    .dataframe tbody tr th:only-of-type {\n",
       "        vertical-align: middle;\n",
       "    }\n",
       "\n",
       "    .dataframe tbody tr th {\n",
       "        vertical-align: top;\n",
       "    }\n",
       "\n",
       "    .dataframe thead th {\n",
       "        text-align: right;\n",
       "    }\n",
       "</style>\n",
       "<table border=\"1\" class=\"dataframe\">\n",
       "  <thead>\n",
       "    <tr style=\"text-align: right;\">\n",
       "      <th></th>\n",
       "      <th>W</th>\n",
       "      <th>X</th>\n",
       "      <th>Y</th>\n",
       "      <th>Z</th>\n",
       "    </tr>\n",
       "  </thead>\n",
       "  <tbody>\n",
       "    <tr>\n",
       "      <th>pune</th>\n",
       "      <td>-0.953661</td>\n",
       "      <td>0.297123</td>\n",
       "      <td>0.400042</td>\n",
       "      <td>0.142764</td>\n",
       "    </tr>\n",
       "    <tr>\n",
       "      <th>mumbai</th>\n",
       "      <td>-0.153135</td>\n",
       "      <td>0.788925</td>\n",
       "      <td>-0.057703</td>\n",
       "      <td>-1.768406</td>\n",
       "    </tr>\n",
       "    <tr>\n",
       "      <th>nashik</th>\n",
       "      <td>-0.853867</td>\n",
       "      <td>-0.757030</td>\n",
       "      <td>-0.658223</td>\n",
       "      <td>-0.713466</td>\n",
       "    </tr>\n",
       "    <tr>\n",
       "      <th>delhi</th>\n",
       "      <td>1.809611</td>\n",
       "      <td>-0.919385</td>\n",
       "      <td>-1.012534</td>\n",
       "      <td>0.892330</td>\n",
       "    </tr>\n",
       "    <tr>\n",
       "      <th>banglore</th>\n",
       "      <td>1.157111</td>\n",
       "      <td>-1.307286</td>\n",
       "      <td>0.304047</td>\n",
       "      <td>1.125050</td>\n",
       "    </tr>\n",
       "  </tbody>\n",
       "</table>\n",
       "</div>"
      ],
      "text/plain": [
       "                 W         X         Y         Z\n",
       "pune     -0.953661  0.297123  0.400042  0.142764\n",
       "mumbai   -0.153135  0.788925 -0.057703 -1.768406\n",
       "nashik   -0.853867 -0.757030 -0.658223 -0.713466\n",
       "delhi     1.809611 -0.919385 -1.012534  0.892330\n",
       "banglore  1.157111 -1.307286  0.304047  1.125050"
      ]
     },
     "execution_count": 76,
     "metadata": {},
     "output_type": "execute_result"
    }
   ],
   "source": [
    "data"
   ]
  },
  {
   "cell_type": "code",
   "execution_count": 81,
   "id": "94052fcf-da74-47f0-b459-5ff8e3e58308",
   "metadata": {},
   "outputs": [
    {
     "data": {
      "text/html": [
       "<div>\n",
       "<style scoped>\n",
       "    .dataframe tbody tr th:only-of-type {\n",
       "        vertical-align: middle;\n",
       "    }\n",
       "\n",
       "    .dataframe tbody tr th {\n",
       "        vertical-align: top;\n",
       "    }\n",
       "\n",
       "    .dataframe thead th {\n",
       "        text-align: right;\n",
       "    }\n",
       "</style>\n",
       "<table border=\"1\" class=\"dataframe\">\n",
       "  <thead>\n",
       "    <tr style=\"text-align: right;\">\n",
       "      <th></th>\n",
       "      <th>index</th>\n",
       "      <th>W</th>\n",
       "      <th>X</th>\n",
       "      <th>Y</th>\n",
       "      <th>Z</th>\n",
       "    </tr>\n",
       "  </thead>\n",
       "  <tbody>\n",
       "    <tr>\n",
       "      <th>0</th>\n",
       "      <td>pune</td>\n",
       "      <td>-0.953661</td>\n",
       "      <td>0.297123</td>\n",
       "      <td>0.400042</td>\n",
       "      <td>0.142764</td>\n",
       "    </tr>\n",
       "    <tr>\n",
       "      <th>1</th>\n",
       "      <td>mumbai</td>\n",
       "      <td>-0.153135</td>\n",
       "      <td>0.788925</td>\n",
       "      <td>-0.057703</td>\n",
       "      <td>-1.768406</td>\n",
       "    </tr>\n",
       "    <tr>\n",
       "      <th>2</th>\n",
       "      <td>nashik</td>\n",
       "      <td>-0.853867</td>\n",
       "      <td>-0.757030</td>\n",
       "      <td>-0.658223</td>\n",
       "      <td>-0.713466</td>\n",
       "    </tr>\n",
       "    <tr>\n",
       "      <th>3</th>\n",
       "      <td>delhi</td>\n",
       "      <td>1.809611</td>\n",
       "      <td>-0.919385</td>\n",
       "      <td>-1.012534</td>\n",
       "      <td>0.892330</td>\n",
       "    </tr>\n",
       "    <tr>\n",
       "      <th>4</th>\n",
       "      <td>banglore</td>\n",
       "      <td>1.157111</td>\n",
       "      <td>-1.307286</td>\n",
       "      <td>0.304047</td>\n",
       "      <td>1.125050</td>\n",
       "    </tr>\n",
       "  </tbody>\n",
       "</table>\n",
       "</div>"
      ],
      "text/plain": [
       "      index         W         X         Y         Z\n",
       "0      pune -0.953661  0.297123  0.400042  0.142764\n",
       "1    mumbai -0.153135  0.788925 -0.057703 -1.768406\n",
       "2    nashik -0.853867 -0.757030 -0.658223 -0.713466\n",
       "3     delhi  1.809611 -0.919385 -1.012534  0.892330\n",
       "4  banglore  1.157111 -1.307286  0.304047  1.125050"
      ]
     },
     "execution_count": 81,
     "metadata": {},
     "output_type": "execute_result"
    }
   ],
   "source": [
    "data.reset_index()"
   ]
  },
  {
   "cell_type": "code",
   "execution_count": 82,
   "id": "ed14e4c3-9ed1-4e41-9a8c-b2b771638f98",
   "metadata": {},
   "outputs": [
    {
     "data": {
      "text/html": [
       "<div>\n",
       "<style scoped>\n",
       "    .dataframe tbody tr th:only-of-type {\n",
       "        vertical-align: middle;\n",
       "    }\n",
       "\n",
       "    .dataframe tbody tr th {\n",
       "        vertical-align: top;\n",
       "    }\n",
       "\n",
       "    .dataframe thead th {\n",
       "        text-align: right;\n",
       "    }\n",
       "</style>\n",
       "<table border=\"1\" class=\"dataframe\">\n",
       "  <thead>\n",
       "    <tr style=\"text-align: right;\">\n",
       "      <th></th>\n",
       "      <th>W</th>\n",
       "      <th>X</th>\n",
       "      <th>Y</th>\n",
       "      <th>Z</th>\n",
       "    </tr>\n",
       "  </thead>\n",
       "  <tbody>\n",
       "    <tr>\n",
       "      <th>pune</th>\n",
       "      <td>-0.953661</td>\n",
       "      <td>0.297123</td>\n",
       "      <td>0.400042</td>\n",
       "      <td>0.142764</td>\n",
       "    </tr>\n",
       "    <tr>\n",
       "      <th>mumbai</th>\n",
       "      <td>-0.153135</td>\n",
       "      <td>0.788925</td>\n",
       "      <td>-0.057703</td>\n",
       "      <td>-1.768406</td>\n",
       "    </tr>\n",
       "    <tr>\n",
       "      <th>nashik</th>\n",
       "      <td>-0.853867</td>\n",
       "      <td>-0.757030</td>\n",
       "      <td>-0.658223</td>\n",
       "      <td>-0.713466</td>\n",
       "    </tr>\n",
       "    <tr>\n",
       "      <th>delhi</th>\n",
       "      <td>1.809611</td>\n",
       "      <td>-0.919385</td>\n",
       "      <td>-1.012534</td>\n",
       "      <td>0.892330</td>\n",
       "    </tr>\n",
       "    <tr>\n",
       "      <th>banglore</th>\n",
       "      <td>1.157111</td>\n",
       "      <td>-1.307286</td>\n",
       "      <td>0.304047</td>\n",
       "      <td>1.125050</td>\n",
       "    </tr>\n",
       "  </tbody>\n",
       "</table>\n",
       "</div>"
      ],
      "text/plain": [
       "                 W         X         Y         Z\n",
       "pune     -0.953661  0.297123  0.400042  0.142764\n",
       "mumbai   -0.153135  0.788925 -0.057703 -1.768406\n",
       "nashik   -0.853867 -0.757030 -0.658223 -0.713466\n",
       "delhi     1.809611 -0.919385 -1.012534  0.892330\n",
       "banglore  1.157111 -1.307286  0.304047  1.125050"
      ]
     },
     "execution_count": 82,
     "metadata": {},
     "output_type": "execute_result"
    }
   ],
   "source": [
    "data"
   ]
  },
  {
   "cell_type": "code",
   "execution_count": 83,
   "id": "e467c1a6-07b0-499d-891b-e1c531ca6c40",
   "metadata": {},
   "outputs": [
    {
     "data": {
      "text/plain": [
       "Index(['W', 'X', 'Y', 'Z'], dtype='object')"
      ]
     },
     "execution_count": 83,
     "metadata": {},
     "output_type": "execute_result"
    }
   ],
   "source": [
    "data.columns"
   ]
  },
  {
   "cell_type": "code",
   "execution_count": 84,
   "id": "f3386a76-430b-45d8-a57f-8e97fe58d322",
   "metadata": {},
   "outputs": [
    {
     "name": "stdout",
     "output_type": "stream",
     "text": [
      "<class 'pandas.core.frame.DataFrame'>\n",
      "Index: 5 entries, pune to banglore\n",
      "Data columns (total 4 columns):\n",
      " #   Column  Non-Null Count  Dtype  \n",
      "---  ------  --------------  -----  \n",
      " 0   W       5 non-null      float64\n",
      " 1   X       5 non-null      float64\n",
      " 2   Y       5 non-null      float64\n",
      " 3   Z       5 non-null      float64\n",
      "dtypes: float64(4)\n",
      "memory usage: 200.0+ bytes\n"
     ]
    }
   ],
   "source": [
    "data.info()"
   ]
  },
  {
   "cell_type": "code",
   "execution_count": 73,
   "id": "25a4f540-de6e-43df-93d8-85e779ee247e",
   "metadata": {},
   "outputs": [],
   "source": [
    "##Multi-Index and Hierarchy"
   ]
  },
  {
   "cell_type": "code",
   "execution_count": 85,
   "id": "da514c4e-fcfc-4fe6-84b9-62ac4e29be9f",
   "metadata": {},
   "outputs": [
    {
     "data": {
      "text/plain": [
       "[('G1', 1), ('G1', 2), ('G1', 3), ('G2', 1), ('G2', 2), ('G2', 3)]"
      ]
     },
     "execution_count": 85,
     "metadata": {},
     "output_type": "execute_result"
    }
   ],
   "source": [
    "#Index levels\n",
    "outside=['G1','G1','G1','G2','G2','G2']\n",
    "inside=[1,2,3,1,2,3]\n",
    "h1=list(zip(outside,inside))\n",
    "h1"
   ]
  },
  {
   "cell_type": "code",
   "execution_count": 87,
   "id": "85e8ae6d-b79b-44e4-8684-57f12d266d44",
   "metadata": {},
   "outputs": [
    {
     "data": {
      "text/plain": [
       "MultiIndex([('G1', 1),\n",
       "            ('G1', 2),\n",
       "            ('G1', 3),\n",
       "            ('G2', 1),\n",
       "            ('G2', 2),\n",
       "            ('G2', 3)],\n",
       "           )"
      ]
     },
     "execution_count": 87,
     "metadata": {},
     "output_type": "execute_result"
    }
   ],
   "source": [
    "hier_index=pd.MultiIndex.from_tuples(h1)\n",
    "hier_index"
   ]
  },
  {
   "cell_type": "code",
   "execution_count": 88,
   "id": "a20f4b8d-f9b5-4bd7-95e9-83c3774a1124",
   "metadata": {},
   "outputs": [],
   "source": [
    "df=pd.DataFrame(np.random.randn(6,2),index=hier_index,columns=['A','B'])"
   ]
  },
  {
   "cell_type": "code",
   "execution_count": 89,
   "id": "a48f4576-0436-4f3f-bdac-43163680dc43",
   "metadata": {},
   "outputs": [
    {
     "data": {
      "text/html": [
       "<div>\n",
       "<style scoped>\n",
       "    .dataframe tbody tr th:only-of-type {\n",
       "        vertical-align: middle;\n",
       "    }\n",
       "\n",
       "    .dataframe tbody tr th {\n",
       "        vertical-align: top;\n",
       "    }\n",
       "\n",
       "    .dataframe thead th {\n",
       "        text-align: right;\n",
       "    }\n",
       "</style>\n",
       "<table border=\"1\" class=\"dataframe\">\n",
       "  <thead>\n",
       "    <tr style=\"text-align: right;\">\n",
       "      <th></th>\n",
       "      <th></th>\n",
       "      <th>A</th>\n",
       "      <th>B</th>\n",
       "    </tr>\n",
       "  </thead>\n",
       "  <tbody>\n",
       "    <tr>\n",
       "      <th rowspan=\"3\" valign=\"top\">G1</th>\n",
       "      <th>1</th>\n",
       "      <td>0.051163</td>\n",
       "      <td>-0.561290</td>\n",
       "    </tr>\n",
       "    <tr>\n",
       "      <th>2</th>\n",
       "      <td>0.129462</td>\n",
       "      <td>0.271689</td>\n",
       "    </tr>\n",
       "    <tr>\n",
       "      <th>3</th>\n",
       "      <td>0.249661</td>\n",
       "      <td>-1.506746</td>\n",
       "    </tr>\n",
       "    <tr>\n",
       "      <th rowspan=\"3\" valign=\"top\">G2</th>\n",
       "      <th>1</th>\n",
       "      <td>0.422015</td>\n",
       "      <td>-0.796369</td>\n",
       "    </tr>\n",
       "    <tr>\n",
       "      <th>2</th>\n",
       "      <td>0.971493</td>\n",
       "      <td>0.001201</td>\n",
       "    </tr>\n",
       "    <tr>\n",
       "      <th>3</th>\n",
       "      <td>0.777321</td>\n",
       "      <td>-0.760979</td>\n",
       "    </tr>\n",
       "  </tbody>\n",
       "</table>\n",
       "</div>"
      ],
      "text/plain": [
       "             A         B\n",
       "G1 1  0.051163 -0.561290\n",
       "   2  0.129462  0.271689\n",
       "   3  0.249661 -1.506746\n",
       "G2 1  0.422015 -0.796369\n",
       "   2  0.971493  0.001201\n",
       "   3  0.777321 -0.760979"
      ]
     },
     "execution_count": 89,
     "metadata": {},
     "output_type": "execute_result"
    }
   ],
   "source": [
    "df"
   ]
  },
  {
   "cell_type": "code",
   "execution_count": 91,
   "id": "88e2ef0e-3aa1-4341-a4c9-38a4aee1a690",
   "metadata": {},
   "outputs": [
    {
     "data": {
      "text/plain": [
       "pandas.core.frame.DataFrame"
      ]
     },
     "execution_count": 91,
     "metadata": {},
     "output_type": "execute_result"
    }
   ],
   "source": [
    "type(df)"
   ]
  },
  {
   "cell_type": "code",
   "execution_count": null,
   "id": "8f11bd02-1279-419f-9c4f-0768d3018ea2",
   "metadata": {},
   "outputs": [],
   "source": []
  },
  {
   "cell_type": "code",
   "execution_count": null,
   "id": "9040613e-7183-475a-bc0d-db6735ae9824",
   "metadata": {},
   "outputs": [],
   "source": []
  },
  {
   "cell_type": "code",
   "execution_count": 92,
   "id": "d6f89c45-2c68-4157-86b9-6838d982e5ec",
   "metadata": {},
   "outputs": [
    {
     "data": {
      "text/html": [
       "<div>\n",
       "<style scoped>\n",
       "    .dataframe tbody tr th:only-of-type {\n",
       "        vertical-align: middle;\n",
       "    }\n",
       "\n",
       "    .dataframe tbody tr th {\n",
       "        vertical-align: top;\n",
       "    }\n",
       "\n",
       "    .dataframe thead th {\n",
       "        text-align: right;\n",
       "    }\n",
       "</style>\n",
       "<table border=\"1\" class=\"dataframe\">\n",
       "  <thead>\n",
       "    <tr style=\"text-align: right;\">\n",
       "      <th></th>\n",
       "      <th>A</th>\n",
       "      <th>B</th>\n",
       "    </tr>\n",
       "  </thead>\n",
       "  <tbody>\n",
       "    <tr>\n",
       "      <th>1</th>\n",
       "      <td>0.051163</td>\n",
       "      <td>-0.561290</td>\n",
       "    </tr>\n",
       "    <tr>\n",
       "      <th>2</th>\n",
       "      <td>0.129462</td>\n",
       "      <td>0.271689</td>\n",
       "    </tr>\n",
       "    <tr>\n",
       "      <th>3</th>\n",
       "      <td>0.249661</td>\n",
       "      <td>-1.506746</td>\n",
       "    </tr>\n",
       "  </tbody>\n",
       "</table>\n",
       "</div>"
      ],
      "text/plain": [
       "          A         B\n",
       "1  0.051163 -0.561290\n",
       "2  0.129462  0.271689\n",
       "3  0.249661 -1.506746"
      ]
     },
     "execution_count": 92,
     "metadata": {},
     "output_type": "execute_result"
    }
   ],
   "source": [
    "df.loc['G1']"
   ]
  },
  {
   "cell_type": "code",
   "execution_count": 97,
   "id": "c9f1f04f-9c10-4927-ba5d-2b7af2ef46c7",
   "metadata": {},
   "outputs": [
    {
     "data": {
      "text/plain": [
       "A    0.051163\n",
       "B   -0.561290\n",
       "Name: 1, dtype: float64"
      ]
     },
     "execution_count": 97,
     "metadata": {},
     "output_type": "execute_result"
    }
   ],
   "source": [
    "df.loc['G1'].loc[1]"
   ]
  },
  {
   "cell_type": "code",
   "execution_count": 98,
   "id": "7680e46c-b099-4bbb-85bc-6c8cf21d6aa4",
   "metadata": {},
   "outputs": [
    {
     "data": {
      "text/plain": [
       "FrozenList([None, None])"
      ]
     },
     "execution_count": 98,
     "metadata": {},
     "output_type": "execute_result"
    }
   ],
   "source": [
    "df.index.names"
   ]
  },
  {
   "cell_type": "code",
   "execution_count": 99,
   "id": "fecbd7c9-2e85-4c7d-b255-530193e44875",
   "metadata": {},
   "outputs": [],
   "source": [
    "df.index.names=['Group','Num']"
   ]
  },
  {
   "cell_type": "code",
   "execution_count": 91,
   "id": "283320d1-f534-4e9a-a47f-75878626e495",
   "metadata": {},
   "outputs": [
    {
     "data": {
      "text/html": [
       "<div>\n",
       "<style scoped>\n",
       "    .dataframe tbody tr th:only-of-type {\n",
       "        vertical-align: middle;\n",
       "    }\n",
       "\n",
       "    .dataframe tbody tr th {\n",
       "        vertical-align: top;\n",
       "    }\n",
       "\n",
       "    .dataframe thead th {\n",
       "        text-align: right;\n",
       "    }\n",
       "</style>\n",
       "<table border=\"1\" class=\"dataframe\">\n",
       "  <thead>\n",
       "    <tr style=\"text-align: right;\">\n",
       "      <th></th>\n",
       "      <th></th>\n",
       "      <th>A</th>\n",
       "      <th>B</th>\n",
       "    </tr>\n",
       "    <tr>\n",
       "      <th>Group</th>\n",
       "      <th>Num</th>\n",
       "      <th></th>\n",
       "      <th></th>\n",
       "    </tr>\n",
       "  </thead>\n",
       "  <tbody>\n",
       "    <tr>\n",
       "      <th rowspan=\"3\" valign=\"top\">G1</th>\n",
       "      <th>1</th>\n",
       "      <td>-1.278869</td>\n",
       "      <td>-1.268451</td>\n",
       "    </tr>\n",
       "    <tr>\n",
       "      <th>2</th>\n",
       "      <td>-1.494998</td>\n",
       "      <td>-0.960871</td>\n",
       "    </tr>\n",
       "    <tr>\n",
       "      <th>3</th>\n",
       "      <td>0.684857</td>\n",
       "      <td>-0.236077</td>\n",
       "    </tr>\n",
       "    <tr>\n",
       "      <th rowspan=\"3\" valign=\"top\">G2</th>\n",
       "      <th>1</th>\n",
       "      <td>0.365480</td>\n",
       "      <td>1.123089</td>\n",
       "    </tr>\n",
       "    <tr>\n",
       "      <th>2</th>\n",
       "      <td>-0.875759</td>\n",
       "      <td>1.105653</td>\n",
       "    </tr>\n",
       "    <tr>\n",
       "      <th>3</th>\n",
       "      <td>-0.928465</td>\n",
       "      <td>0.330828</td>\n",
       "    </tr>\n",
       "  </tbody>\n",
       "</table>\n",
       "</div>"
      ],
      "text/plain": [
       "                  A         B\n",
       "Group Num                    \n",
       "G1    1   -1.278869 -1.268451\n",
       "      2   -1.494998 -0.960871\n",
       "      3    0.684857 -0.236077\n",
       "G2    1    0.365480  1.123089\n",
       "      2   -0.875759  1.105653\n",
       "      3   -0.928465  0.330828"
      ]
     },
     "execution_count": 91,
     "metadata": {},
     "output_type": "execute_result"
    }
   ],
   "source": [
    "df"
   ]
  },
  {
   "cell_type": "code",
   "execution_count": 100,
   "id": "bc1fee1c-f381-40af-ba0f-406e2fb6027b",
   "metadata": {},
   "outputs": [
    {
     "data": {
      "text/html": [
       "<div>\n",
       "<style scoped>\n",
       "    .dataframe tbody tr th:only-of-type {\n",
       "        vertical-align: middle;\n",
       "    }\n",
       "\n",
       "    .dataframe tbody tr th {\n",
       "        vertical-align: top;\n",
       "    }\n",
       "\n",
       "    .dataframe thead th {\n",
       "        text-align: right;\n",
       "    }\n",
       "</style>\n",
       "<table border=\"1\" class=\"dataframe\">\n",
       "  <thead>\n",
       "    <tr style=\"text-align: right;\">\n",
       "      <th></th>\n",
       "      <th>A</th>\n",
       "      <th>B</th>\n",
       "    </tr>\n",
       "    <tr>\n",
       "      <th>Num</th>\n",
       "      <th></th>\n",
       "      <th></th>\n",
       "    </tr>\n",
       "  </thead>\n",
       "  <tbody>\n",
       "    <tr>\n",
       "      <th>1</th>\n",
       "      <td>0.051163</td>\n",
       "      <td>-0.561290</td>\n",
       "    </tr>\n",
       "    <tr>\n",
       "      <th>2</th>\n",
       "      <td>0.129462</td>\n",
       "      <td>0.271689</td>\n",
       "    </tr>\n",
       "    <tr>\n",
       "      <th>3</th>\n",
       "      <td>0.249661</td>\n",
       "      <td>-1.506746</td>\n",
       "    </tr>\n",
       "  </tbody>\n",
       "</table>\n",
       "</div>"
      ],
      "text/plain": [
       "            A         B\n",
       "Num                    \n",
       "1    0.051163 -0.561290\n",
       "2    0.129462  0.271689\n",
       "3    0.249661 -1.506746"
      ]
     },
     "execution_count": 100,
     "metadata": {},
     "output_type": "execute_result"
    }
   ],
   "source": [
    "df.xs('G1')   #cross section"
   ]
  },
  {
   "cell_type": "code",
   "execution_count": 93,
   "id": "d8026516-915b-4715-89de-2bca8ef46ef0",
   "metadata": {},
   "outputs": [
    {
     "data": {
      "text/plain": [
       "A   -1.278869\n",
       "B   -1.268451\n",
       "Name: (G1, 1), dtype: float64"
      ]
     },
     "execution_count": 93,
     "metadata": {},
     "output_type": "execute_result"
    }
   ],
   "source": [
    "df.xs(('G1',1))"
   ]
  },
  {
   "cell_type": "code",
   "execution_count": 94,
   "id": "bd903a61-879a-4ae6-9d3c-b28e07feaa3d",
   "metadata": {},
   "outputs": [
    {
     "data": {
      "text/plain": [
       "A   -1.494998\n",
       "B   -0.960871\n",
       "Name: (G1, 2), dtype: float64"
      ]
     },
     "execution_count": 94,
     "metadata": {},
     "output_type": "execute_result"
    }
   ],
   "source": [
    "df.xs(('G1',2))"
   ]
  },
  {
   "cell_type": "code",
   "execution_count": 95,
   "id": "e21b2500-dc0b-4cef-87f9-8390654e8926",
   "metadata": {},
   "outputs": [
    {
     "data": {
      "text/html": [
       "<div>\n",
       "<style scoped>\n",
       "    .dataframe tbody tr th:only-of-type {\n",
       "        vertical-align: middle;\n",
       "    }\n",
       "\n",
       "    .dataframe tbody tr th {\n",
       "        vertical-align: top;\n",
       "    }\n",
       "\n",
       "    .dataframe thead th {\n",
       "        text-align: right;\n",
       "    }\n",
       "</style>\n",
       "<table border=\"1\" class=\"dataframe\">\n",
       "  <thead>\n",
       "    <tr style=\"text-align: right;\">\n",
       "      <th></th>\n",
       "      <th>A</th>\n",
       "      <th>B</th>\n",
       "    </tr>\n",
       "    <tr>\n",
       "      <th>Group</th>\n",
       "      <th></th>\n",
       "      <th></th>\n",
       "    </tr>\n",
       "  </thead>\n",
       "  <tbody>\n",
       "    <tr>\n",
       "      <th>G1</th>\n",
       "      <td>-1.278869</td>\n",
       "      <td>-1.268451</td>\n",
       "    </tr>\n",
       "    <tr>\n",
       "      <th>G2</th>\n",
       "      <td>0.365480</td>\n",
       "      <td>1.123089</td>\n",
       "    </tr>\n",
       "  </tbody>\n",
       "</table>\n",
       "</div>"
      ],
      "text/plain": [
       "              A         B\n",
       "Group                    \n",
       "G1    -1.278869 -1.268451\n",
       "G2     0.365480  1.123089"
      ]
     },
     "execution_count": 95,
     "metadata": {},
     "output_type": "execute_result"
    }
   ],
   "source": [
    "df.xs(1,level='Num')"
   ]
  },
  {
   "cell_type": "markdown",
   "id": "8a22ee38-f1b4-4e03-a3f0-077cf83de143",
   "metadata": {},
   "source": [
    "<b>#Missing Data"
   ]
  },
  {
   "cell_type": "code",
   "execution_count": 101,
   "id": "09165f45-17ec-4bcf-a61c-3dce2ca72ffd",
   "metadata": {},
   "outputs": [],
   "source": [
    "import numpy as np\n",
    "import pandas as pd"
   ]
  },
  {
   "cell_type": "code",
   "execution_count": 102,
   "id": "b215e3cc-41a1-42a2-b13e-d5e3063e5c9b",
   "metadata": {},
   "outputs": [],
   "source": [
    "d={'A':[1,2,np.nan],\n",
    "   'B':[5,np.nan,np.nan],\n",
    "   'C':[1,2,3]}"
   ]
  },
  {
   "cell_type": "code",
   "execution_count": 103,
   "id": "9e73700f-292b-4ec5-b09b-d971458ab64c",
   "metadata": {},
   "outputs": [],
   "source": [
    "df=pd.DataFrame({'A':[1,2,np.nan],\n",
    "                 'B':[5,np.nan,np.nan],\n",
    "                 'C':[1,2,3]})"
   ]
  },
  {
   "cell_type": "code",
   "execution_count": 104,
   "id": "0d14dcca-e660-4862-8bef-cc4d79145f47",
   "metadata": {},
   "outputs": [
    {
     "data": {
      "text/html": [
       "<div>\n",
       "<style scoped>\n",
       "    .dataframe tbody tr th:only-of-type {\n",
       "        vertical-align: middle;\n",
       "    }\n",
       "\n",
       "    .dataframe tbody tr th {\n",
       "        vertical-align: top;\n",
       "    }\n",
       "\n",
       "    .dataframe thead th {\n",
       "        text-align: right;\n",
       "    }\n",
       "</style>\n",
       "<table border=\"1\" class=\"dataframe\">\n",
       "  <thead>\n",
       "    <tr style=\"text-align: right;\">\n",
       "      <th></th>\n",
       "      <th>A</th>\n",
       "      <th>B</th>\n",
       "      <th>C</th>\n",
       "    </tr>\n",
       "  </thead>\n",
       "  <tbody>\n",
       "    <tr>\n",
       "      <th>0</th>\n",
       "      <td>1.0</td>\n",
       "      <td>5.0</td>\n",
       "      <td>1</td>\n",
       "    </tr>\n",
       "    <tr>\n",
       "      <th>1</th>\n",
       "      <td>2.0</td>\n",
       "      <td>NaN</td>\n",
       "      <td>2</td>\n",
       "    </tr>\n",
       "    <tr>\n",
       "      <th>2</th>\n",
       "      <td>NaN</td>\n",
       "      <td>NaN</td>\n",
       "      <td>3</td>\n",
       "    </tr>\n",
       "  </tbody>\n",
       "</table>\n",
       "</div>"
      ],
      "text/plain": [
       "     A    B  C\n",
       "0  1.0  5.0  1\n",
       "1  2.0  NaN  2\n",
       "2  NaN  NaN  3"
      ]
     },
     "execution_count": 104,
     "metadata": {},
     "output_type": "execute_result"
    }
   ],
   "source": [
    "df"
   ]
  },
  {
   "cell_type": "code",
   "execution_count": 105,
   "id": "6faca244-50ed-4143-8c93-cadb00fb1def",
   "metadata": {},
   "outputs": [
    {
     "data": {
      "text/html": [
       "<div>\n",
       "<style scoped>\n",
       "    .dataframe tbody tr th:only-of-type {\n",
       "        vertical-align: middle;\n",
       "    }\n",
       "\n",
       "    .dataframe tbody tr th {\n",
       "        vertical-align: top;\n",
       "    }\n",
       "\n",
       "    .dataframe thead th {\n",
       "        text-align: right;\n",
       "    }\n",
       "</style>\n",
       "<table border=\"1\" class=\"dataframe\">\n",
       "  <thead>\n",
       "    <tr style=\"text-align: right;\">\n",
       "      <th></th>\n",
       "      <th>A</th>\n",
       "      <th>B</th>\n",
       "      <th>C</th>\n",
       "    </tr>\n",
       "  </thead>\n",
       "  <tbody>\n",
       "    <tr>\n",
       "      <th>0</th>\n",
       "      <td>False</td>\n",
       "      <td>False</td>\n",
       "      <td>False</td>\n",
       "    </tr>\n",
       "    <tr>\n",
       "      <th>1</th>\n",
       "      <td>False</td>\n",
       "      <td>True</td>\n",
       "      <td>False</td>\n",
       "    </tr>\n",
       "    <tr>\n",
       "      <th>2</th>\n",
       "      <td>True</td>\n",
       "      <td>True</td>\n",
       "      <td>False</td>\n",
       "    </tr>\n",
       "  </tbody>\n",
       "</table>\n",
       "</div>"
      ],
      "text/plain": [
       "       A      B      C\n",
       "0  False  False  False\n",
       "1  False   True  False\n",
       "2   True   True  False"
      ]
     },
     "execution_count": 105,
     "metadata": {},
     "output_type": "execute_result"
    }
   ],
   "source": [
    "df.isna()"
   ]
  },
  {
   "cell_type": "code",
   "execution_count": 106,
   "id": "8c53e6a9-c324-489f-b670-af08cd0b6213",
   "metadata": {},
   "outputs": [
    {
     "data": {
      "text/html": [
       "<div>\n",
       "<style scoped>\n",
       "    .dataframe tbody tr th:only-of-type {\n",
       "        vertical-align: middle;\n",
       "    }\n",
       "\n",
       "    .dataframe tbody tr th {\n",
       "        vertical-align: top;\n",
       "    }\n",
       "\n",
       "    .dataframe thead th {\n",
       "        text-align: right;\n",
       "    }\n",
       "</style>\n",
       "<table border=\"1\" class=\"dataframe\">\n",
       "  <thead>\n",
       "    <tr style=\"text-align: right;\">\n",
       "      <th></th>\n",
       "      <th>A</th>\n",
       "      <th>B</th>\n",
       "      <th>C</th>\n",
       "    </tr>\n",
       "  </thead>\n",
       "  <tbody>\n",
       "    <tr>\n",
       "      <th>0</th>\n",
       "      <td>False</td>\n",
       "      <td>False</td>\n",
       "      <td>False</td>\n",
       "    </tr>\n",
       "    <tr>\n",
       "      <th>1</th>\n",
       "      <td>False</td>\n",
       "      <td>True</td>\n",
       "      <td>False</td>\n",
       "    </tr>\n",
       "    <tr>\n",
       "      <th>2</th>\n",
       "      <td>True</td>\n",
       "      <td>True</td>\n",
       "      <td>False</td>\n",
       "    </tr>\n",
       "  </tbody>\n",
       "</table>\n",
       "</div>"
      ],
      "text/plain": [
       "       A      B      C\n",
       "0  False  False  False\n",
       "1  False   True  False\n",
       "2   True   True  False"
      ]
     },
     "execution_count": 106,
     "metadata": {},
     "output_type": "execute_result"
    }
   ],
   "source": [
    "df.isnull()"
   ]
  },
  {
   "cell_type": "code",
   "execution_count": 107,
   "id": "fe80cec6-82b8-4430-b109-fb5ad3343bb2",
   "metadata": {},
   "outputs": [
    {
     "data": {
      "text/plain": [
       "\"\\n#Handling Missing values\\n#1) Remove the records/columns\\n#2)replace missing values\\n    #1.numerical values ==>mean/median\\n    #2.catogorical values ==> mode\\n\\n#in which case we use median instead of mean for removing of missing values\\n==>When we have outliers in your data mean is affected by outliers, so don't use mean, use median\\n\\n\""
      ]
     },
     "execution_count": 107,
     "metadata": {},
     "output_type": "execute_result"
    }
   ],
   "source": [
    "'''\n",
    "#Handling Missing values\n",
    "#1) Remove the records/columns\n",
    "#2)replace missing values\n",
    "    #1.numerical values ==>mean/median\n",
    "    #2.catogorical values ==> mode\n",
    "\n",
    "#in which case we use median instead of mean for removing of missing values\n",
    "==>When we have outliers in your data mean is affected by outliers, so don't use mean, use median\n",
    "\n",
    "'''"
   ]
  },
  {
   "cell_type": "code",
   "execution_count": 108,
   "id": "eb98a66a-e4df-41de-a9bc-b6b7564db20d",
   "metadata": {},
   "outputs": [
    {
     "data": {
      "text/html": [
       "<div>\n",
       "<style scoped>\n",
       "    .dataframe tbody tr th:only-of-type {\n",
       "        vertical-align: middle;\n",
       "    }\n",
       "\n",
       "    .dataframe tbody tr th {\n",
       "        vertical-align: top;\n",
       "    }\n",
       "\n",
       "    .dataframe thead th {\n",
       "        text-align: right;\n",
       "    }\n",
       "</style>\n",
       "<table border=\"1\" class=\"dataframe\">\n",
       "  <thead>\n",
       "    <tr style=\"text-align: right;\">\n",
       "      <th></th>\n",
       "      <th>C</th>\n",
       "    </tr>\n",
       "  </thead>\n",
       "  <tbody>\n",
       "    <tr>\n",
       "      <th>0</th>\n",
       "      <td>1</td>\n",
       "    </tr>\n",
       "    <tr>\n",
       "      <th>1</th>\n",
       "      <td>2</td>\n",
       "    </tr>\n",
       "    <tr>\n",
       "      <th>2</th>\n",
       "      <td>3</td>\n",
       "    </tr>\n",
       "  </tbody>\n",
       "</table>\n",
       "</div>"
      ],
      "text/plain": [
       "   C\n",
       "0  1\n",
       "1  2\n",
       "2  3"
      ]
     },
     "execution_count": 108,
     "metadata": {},
     "output_type": "execute_result"
    }
   ],
   "source": [
    "df.dropna(axis=1)"
   ]
  },
  {
   "cell_type": "code",
   "execution_count": 111,
   "id": "7adfab09-1172-4a61-a0bc-670c192f6528",
   "metadata": {},
   "outputs": [
    {
     "data": {
      "text/html": [
       "<div>\n",
       "<style scoped>\n",
       "    .dataframe tbody tr th:only-of-type {\n",
       "        vertical-align: middle;\n",
       "    }\n",
       "\n",
       "    .dataframe tbody tr th {\n",
       "        vertical-align: top;\n",
       "    }\n",
       "\n",
       "    .dataframe thead th {\n",
       "        text-align: right;\n",
       "    }\n",
       "</style>\n",
       "<table border=\"1\" class=\"dataframe\">\n",
       "  <thead>\n",
       "    <tr style=\"text-align: right;\">\n",
       "      <th></th>\n",
       "      <th>A</th>\n",
       "      <th>B</th>\n",
       "      <th>C</th>\n",
       "    </tr>\n",
       "  </thead>\n",
       "  <tbody>\n",
       "    <tr>\n",
       "      <th>0</th>\n",
       "      <td>1.0</td>\n",
       "      <td>5.0</td>\n",
       "      <td>1</td>\n",
       "    </tr>\n",
       "    <tr>\n",
       "      <th>1</th>\n",
       "      <td>2.0</td>\n",
       "      <td>NaN</td>\n",
       "      <td>2</td>\n",
       "    </tr>\n",
       "    <tr>\n",
       "      <th>2</th>\n",
       "      <td>NaN</td>\n",
       "      <td>NaN</td>\n",
       "      <td>3</td>\n",
       "    </tr>\n",
       "  </tbody>\n",
       "</table>\n",
       "</div>"
      ],
      "text/plain": [
       "     A    B  C\n",
       "0  1.0  5.0  1\n",
       "1  2.0  NaN  2\n",
       "2  NaN  NaN  3"
      ]
     },
     "execution_count": 111,
     "metadata": {},
     "output_type": "execute_result"
    }
   ],
   "source": [
    "df"
   ]
  },
  {
   "cell_type": "code",
   "execution_count": 112,
   "id": "e60faec1-e42c-44b4-9e35-778912fa2c96",
   "metadata": {},
   "outputs": [
    {
     "data": {
      "text/html": [
       "<div>\n",
       "<style scoped>\n",
       "    .dataframe tbody tr th:only-of-type {\n",
       "        vertical-align: middle;\n",
       "    }\n",
       "\n",
       "    .dataframe tbody tr th {\n",
       "        vertical-align: top;\n",
       "    }\n",
       "\n",
       "    .dataframe thead th {\n",
       "        text-align: right;\n",
       "    }\n",
       "</style>\n",
       "<table border=\"1\" class=\"dataframe\">\n",
       "  <thead>\n",
       "    <tr style=\"text-align: right;\">\n",
       "      <th></th>\n",
       "      <th>A</th>\n",
       "      <th>B</th>\n",
       "      <th>C</th>\n",
       "    </tr>\n",
       "  </thead>\n",
       "  <tbody>\n",
       "    <tr>\n",
       "      <th>0</th>\n",
       "      <td>1.0</td>\n",
       "      <td>5.0</td>\n",
       "      <td>1</td>\n",
       "    </tr>\n",
       "    <tr>\n",
       "      <th>1</th>\n",
       "      <td>2.0</td>\n",
       "      <td>NaN</td>\n",
       "      <td>2</td>\n",
       "    </tr>\n",
       "    <tr>\n",
       "      <th>2</th>\n",
       "      <td>NaN</td>\n",
       "      <td>NaN</td>\n",
       "      <td>3</td>\n",
       "    </tr>\n",
       "  </tbody>\n",
       "</table>\n",
       "</div>"
      ],
      "text/plain": [
       "     A    B  C\n",
       "0  1.0  5.0  1\n",
       "1  2.0  NaN  2\n",
       "2  NaN  NaN  3"
      ]
     },
     "execution_count": 112,
     "metadata": {},
     "output_type": "execute_result"
    }
   ],
   "source": [
    "df.dropna(thresh=1)"
   ]
  },
  {
   "cell_type": "code",
   "execution_count": null,
   "id": "02c3ca7a-f8ad-4b78-81ed-3f945f8389e5",
   "metadata": {},
   "outputs": [],
   "source": []
  }
 ],
 "metadata": {
  "kernelspec": {
   "display_name": "Python 3 (ipykernel)",
   "language": "python",
   "name": "python3"
  },
  "language_info": {
   "codemirror_mode": {
    "name": "ipython",
    "version": 3
   },
   "file_extension": ".py",
   "mimetype": "text/x-python",
   "name": "python",
   "nbconvert_exporter": "python",
   "pygments_lexer": "ipython3",
   "version": "3.12.3"
  }
 },
 "nbformat": 4,
 "nbformat_minor": 5
}
