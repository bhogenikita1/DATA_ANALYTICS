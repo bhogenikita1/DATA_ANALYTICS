{
 "cells": [
  {
   "cell_type": "markdown",
   "id": "8a8bc33f-d57f-46b9-878f-7cbfcd77b3ec",
   "metadata": {},
   "source": [
    "# File==>\n",
    "\n",
    "collection of data that store in computer"
   ]
  },
  {
   "cell_type": "code",
   "execution_count": 1,
   "id": "4e56fc7a-1b37-49e7-8a80-5c5eb45844b9",
   "metadata": {},
   "outputs": [],
   "source": [
    "# 11/01/2025\n",
    "## File Handling"
   ]
  },
  {
   "cell_type": "markdown",
   "id": "df7d1fe6-4a2a-479c-a406-6362d009b31c",
   "metadata": {},
   "source": [
    "#process of file handling<br>\n",
    "#open file<br>\n",
    "#perform file<br>\n",
    "#close operation<br>"
   ]
  },
  {
   "cell_type": "code",
   "execution_count": 10,
   "id": "3edc4c0f-275e-4387-a54b-e987cd0c1706",
   "metadata": {},
   "outputs": [
    {
     "data": {
      "text/plain": [
       "'C:\\\\Users\\\\HP\\\\DATA ANALYTICS'"
      ]
     },
     "execution_count": 10,
     "metadata": {},
     "output_type": "execute_result"
    }
   ],
   "source": [
    "pwd"
   ]
  },
  {
   "cell_type": "code",
   "execution_count": 14,
   "id": "49a9a5ef-86d7-4d03-9839-c9998a104898",
   "metadata": {},
   "outputs": [
    {
     "ename": "FileNotFoundError",
     "evalue": "[Errno 2] No such file or directory: 'saturday.txt'",
     "output_type": "error",
     "traceback": [
      "\u001b[1;31m---------------------------------------------------------------------------\u001b[0m",
      "\u001b[1;31mFileNotFoundError\u001b[0m                         Traceback (most recent call last)",
      "Cell \u001b[1;32mIn[14], line 1\u001b[0m\n\u001b[1;32m----> 1\u001b[0m \u001b[38;5;28mopen\u001b[39m(\u001b[38;5;124m\"\u001b[39m\u001b[38;5;124msaturday.txt\u001b[39m\u001b[38;5;124m\"\u001b[39m)\n",
      "File \u001b[1;32m~\\anaconda3\\Lib\\site-packages\\IPython\\core\\interactiveshell.py:324\u001b[0m, in \u001b[0;36m_modified_open\u001b[1;34m(file, *args, **kwargs)\u001b[0m\n\u001b[0;32m    317\u001b[0m \u001b[38;5;28;01mif\u001b[39;00m file \u001b[38;5;129;01min\u001b[39;00m {\u001b[38;5;241m0\u001b[39m, \u001b[38;5;241m1\u001b[39m, \u001b[38;5;241m2\u001b[39m}:\n\u001b[0;32m    318\u001b[0m     \u001b[38;5;28;01mraise\u001b[39;00m \u001b[38;5;167;01mValueError\u001b[39;00m(\n\u001b[0;32m    319\u001b[0m         \u001b[38;5;124mf\u001b[39m\u001b[38;5;124m\"\u001b[39m\u001b[38;5;124mIPython won\u001b[39m\u001b[38;5;124m'\u001b[39m\u001b[38;5;124mt let you open fd=\u001b[39m\u001b[38;5;132;01m{\u001b[39;00mfile\u001b[38;5;132;01m}\u001b[39;00m\u001b[38;5;124m by default \u001b[39m\u001b[38;5;124m\"\u001b[39m\n\u001b[0;32m    320\u001b[0m         \u001b[38;5;124m\"\u001b[39m\u001b[38;5;124mas it is likely to crash IPython. If you know what you are doing, \u001b[39m\u001b[38;5;124m\"\u001b[39m\n\u001b[0;32m    321\u001b[0m         \u001b[38;5;124m\"\u001b[39m\u001b[38;5;124myou can use builtins\u001b[39m\u001b[38;5;124m'\u001b[39m\u001b[38;5;124m open.\u001b[39m\u001b[38;5;124m\"\u001b[39m\n\u001b[0;32m    322\u001b[0m     )\n\u001b[1;32m--> 324\u001b[0m \u001b[38;5;28;01mreturn\u001b[39;00m io_open(file, \u001b[38;5;241m*\u001b[39margs, \u001b[38;5;241m*\u001b[39m\u001b[38;5;241m*\u001b[39mkwargs)\n",
      "\u001b[1;31mFileNotFoundError\u001b[0m: [Errno 2] No such file or directory: 'saturday.txt'"
     ]
    }
   ],
   "source": [
    "open(\"saturday.txt\")\n",
    "#The file is not exist in our current directory"
   ]
  },
  {
   "cell_type": "code",
   "execution_count": 15,
   "id": "39b4cb88-52e9-40c5-be3b-e763b23be7e0",
   "metadata": {},
   "outputs": [
    {
     "ename": "FileNotFoundError",
     "evalue": "[Errno 2] No such file or directory: 'saturday.txt'",
     "output_type": "error",
     "traceback": [
      "\u001b[1;31m---------------------------------------------------------------------------\u001b[0m",
      "\u001b[1;31mFileNotFoundError\u001b[0m                         Traceback (most recent call last)",
      "Cell \u001b[1;32mIn[15], line 1\u001b[0m\n\u001b[1;32m----> 1\u001b[0m \u001b[38;5;28mopen\u001b[39m(\u001b[38;5;124m\"\u001b[39m\u001b[38;5;124msaturday.txt\u001b[39m\u001b[38;5;124m\"\u001b[39m,mode\u001b[38;5;241m=\u001b[39m\u001b[38;5;124m'\u001b[39m\u001b[38;5;124mr\u001b[39m\u001b[38;5;124m'\u001b[39m)\n",
      "File \u001b[1;32m~\\anaconda3\\Lib\\site-packages\\IPython\\core\\interactiveshell.py:324\u001b[0m, in \u001b[0;36m_modified_open\u001b[1;34m(file, *args, **kwargs)\u001b[0m\n\u001b[0;32m    317\u001b[0m \u001b[38;5;28;01mif\u001b[39;00m file \u001b[38;5;129;01min\u001b[39;00m {\u001b[38;5;241m0\u001b[39m, \u001b[38;5;241m1\u001b[39m, \u001b[38;5;241m2\u001b[39m}:\n\u001b[0;32m    318\u001b[0m     \u001b[38;5;28;01mraise\u001b[39;00m \u001b[38;5;167;01mValueError\u001b[39;00m(\n\u001b[0;32m    319\u001b[0m         \u001b[38;5;124mf\u001b[39m\u001b[38;5;124m\"\u001b[39m\u001b[38;5;124mIPython won\u001b[39m\u001b[38;5;124m'\u001b[39m\u001b[38;5;124mt let you open fd=\u001b[39m\u001b[38;5;132;01m{\u001b[39;00mfile\u001b[38;5;132;01m}\u001b[39;00m\u001b[38;5;124m by default \u001b[39m\u001b[38;5;124m\"\u001b[39m\n\u001b[0;32m    320\u001b[0m         \u001b[38;5;124m\"\u001b[39m\u001b[38;5;124mas it is likely to crash IPython. If you know what you are doing, \u001b[39m\u001b[38;5;124m\"\u001b[39m\n\u001b[0;32m    321\u001b[0m         \u001b[38;5;124m\"\u001b[39m\u001b[38;5;124myou can use builtins\u001b[39m\u001b[38;5;124m'\u001b[39m\u001b[38;5;124m open.\u001b[39m\u001b[38;5;124m\"\u001b[39m\n\u001b[0;32m    322\u001b[0m     )\n\u001b[1;32m--> 324\u001b[0m \u001b[38;5;28;01mreturn\u001b[39;00m io_open(file, \u001b[38;5;241m*\u001b[39margs, \u001b[38;5;241m*\u001b[39m\u001b[38;5;241m*\u001b[39mkwargs)\n",
      "\u001b[1;31mFileNotFoundError\u001b[0m: [Errno 2] No such file or directory: 'saturday.txt'"
     ]
    }
   ],
   "source": [
    "open(\"saturday.txt\",mode='r')\n",
    "#By default the mode is read &text mode"
   ]
  },
  {
   "cell_type": "code",
   "execution_count": 16,
   "id": "0ecfb77d-b520-4412-9957-dac8020e3220",
   "metadata": {},
   "outputs": [
    {
     "data": {
      "text/plain": [
       "<_io.TextIOWrapper name='saturday.txt' mode='w' encoding='cp1252'>"
      ]
     },
     "execution_count": 16,
     "metadata": {},
     "output_type": "execute_result"
    }
   ],
   "source": [
    "open(\"saturday.txt\",mode='w') #Write"
   ]
  },
  {
   "cell_type": "code",
   "execution_count": 17,
   "id": "e7a108c7-8fd2-48d6-86cd-c0520f33c4f4",
   "metadata": {},
   "outputs": [
    {
     "data": {
      "text/plain": [
       "'C:\\\\Users\\\\HP\\\\DATA ANALYTICS'"
      ]
     },
     "execution_count": 17,
     "metadata": {},
     "output_type": "execute_result"
    }
   ],
   "source": [
    "pwd"
   ]
  },
  {
   "cell_type": "code",
   "execution_count": 18,
   "id": "939feff9-a88a-46b6-a30a-8ef191252e2f",
   "metadata": {},
   "outputs": [
    {
     "data": {
      "text/plain": [
       "<_io.TextIOWrapper name='saturday.txt' mode='r' encoding='cp1252'>"
      ]
     },
     "execution_count": 18,
     "metadata": {},
     "output_type": "execute_result"
    }
   ],
   "source": [
    "open(\"saturday.txt\")#open"
   ]
  },
  {
   "cell_type": "code",
   "execution_count": 22,
   "id": "70b4dcc0-6b9a-4667-9939-0cab6fbf5306",
   "metadata": {},
   "outputs": [],
   "source": [
    "f=open(\"saturday.txt\")"
   ]
  },
  {
   "cell_type": "code",
   "execution_count": 23,
   "id": "d177f9da-8fc5-46e4-b17f-c856f1f61ecb",
   "metadata": {},
   "outputs": [
    {
     "data": {
      "text/plain": [
       "_io.TextIOWrapper"
      ]
     },
     "execution_count": 23,
     "metadata": {},
     "output_type": "execute_result"
    }
   ],
   "source": [
    "type(f)"
   ]
  },
  {
   "cell_type": "code",
   "execution_count": 24,
   "id": "087de4a3-6e1c-4242-bec1-6d40be0963c2",
   "metadata": {},
   "outputs": [],
   "source": [
    "f.close()"
   ]
  },
  {
   "cell_type": "code",
   "execution_count": 26,
   "id": "378fd1c1-8a8b-4123-b4f0-d90ba9de8d97",
   "metadata": {},
   "outputs": [],
   "source": [
    "try:\n",
    "    f=open(\"saturday.txt\")\n",
    "finally:  #by default it is execute\n",
    "    f.close()"
   ]
  },
  {
   "cell_type": "code",
   "execution_count": 27,
   "id": "ba263739-a563-47fc-aa81-3a33cf091200",
   "metadata": {},
   "outputs": [
    {
     "ename": "UnsupportedOperation",
     "evalue": "not writable",
     "output_type": "error",
     "traceback": [
      "\u001b[1;31m---------------------------------------------------------------------------\u001b[0m",
      "\u001b[1;31mUnsupportedOperation\u001b[0m                      Traceback (most recent call last)",
      "Cell \u001b[1;32mIn[27], line 2\u001b[0m\n\u001b[0;32m      1\u001b[0m f\u001b[38;5;241m=\u001b[39m\u001b[38;5;28mopen\u001b[39m(\u001b[38;5;124m\"\u001b[39m\u001b[38;5;124msaturday.txt\u001b[39m\u001b[38;5;124m\"\u001b[39m)\n\u001b[1;32m----> 2\u001b[0m f\u001b[38;5;241m.\u001b[39mwrite(\u001b[38;5;124m\"\u001b[39m\u001b[38;5;124mHello Everyone!!!\u001b[39m\u001b[38;5;124m\"\u001b[39m)\n",
      "\u001b[1;31mUnsupportedOperation\u001b[0m: not writable"
     ]
    }
   ],
   "source": [
    "f=open(\"saturday.txt\")\n",
    "f.write(\"Hello Everyone!!!\")"
   ]
  },
  {
   "cell_type": "code",
   "execution_count": 32,
   "id": "c763c7b9-7f32-4487-a0ab-a15a4b73464f",
   "metadata": {},
   "outputs": [
    {
     "name": "stdout",
     "output_type": "stream",
     "text": [
      "Seems some issue is there!!!\n",
      "Finally Executed!!!\n"
     ]
    }
   ],
   "source": [
    "try:\n",
    "    f=open(\"saturday.txt\")\n",
    "    f.write(\"Hello Everyone!!!\")\n",
    "except:\n",
    "    print(\"Seems some issue is there!!!\")\n",
    "finally: \n",
    "    #by default it will execute\n",
    "    print(\"Finally Executed!!!\")\n",
    "    f.close()"
   ]
  },
  {
   "cell_type": "code",
   "execution_count": 33,
   "id": "6b646439-664f-44a5-8f0e-8d85facc2f88",
   "metadata": {},
   "outputs": [
    {
     "ename": "SyntaxError",
     "evalue": "default 'except:' must be last (911853534.py, line 4)",
     "output_type": "error",
     "traceback": [
      "\u001b[1;36m  Cell \u001b[1;32mIn[33], line 4\u001b[1;36m\u001b[0m\n\u001b[1;33m    except:\u001b[0m\n\u001b[1;37m    ^\u001b[0m\n\u001b[1;31mSyntaxError\u001b[0m\u001b[1;31m:\u001b[0m default 'except:' must be last\n"
     ]
    }
   ],
   "source": [
    "try:\n",
    "    f=open(\"saturday.txt\")\n",
    "    f.write(\"Hello Everyone!!!\")\n",
    "except:\n",
    "    print(\"Seems some issue is there!!!\")\n",
    "except:\n",
    "    print(\"HI\")    \n",
    "finally: \n",
    "    #by default it will execute\n",
    "    print(\"Finally Executed!!!\")\n",
    "    f.close()"
   ]
  },
  {
   "cell_type": "code",
   "execution_count": 36,
   "id": "b5fe4c08-c0ba-46e7-9aa7-636330e20cca",
   "metadata": {},
   "outputs": [],
   "source": [
    "with open(\"saturday.txt\",mode=\"w\") as f:\n",
    "    f.write(\"This is First Line\\n\")\n",
    "    f.write(\"This is Second Line\\n\")\n",
    "    f.write(\"This is Third Line\\n\\n\")\n",
    "    f.write(\"This is Last Line\\n\")"
   ]
  },
  {
   "cell_type": "code",
   "execution_count": 37,
   "id": "2b9df00e-d539-4676-99a7-c9af1a1ec6a8",
   "metadata": {},
   "outputs": [],
   "source": [
    "f=open(\"saturday.txt\")"
   ]
  },
  {
   "cell_type": "code",
   "execution_count": 38,
   "id": "06595d4c-502a-4c97-86ad-636a0806c6e7",
   "metadata": {},
   "outputs": [
    {
     "data": {
      "text/plain": [
       "'This is First Line\\nThis is Second Line\\nThis is Third Line\\n\\nThis is Last Line\\n'"
      ]
     },
     "execution_count": 38,
     "metadata": {},
     "output_type": "execute_result"
    }
   ],
   "source": [
    "f.read()"
   ]
  },
  {
   "cell_type": "code",
   "execution_count": 39,
   "id": "fc34aa0b-da46-4e08-a8a7-cb946cbbb2ae",
   "metadata": {},
   "outputs": [],
   "source": [
    "f.close()"
   ]
  },
  {
   "cell_type": "code",
   "execution_count": 44,
   "id": "c6702e2f-7d48-4dea-a05f-64469fbbfa8f",
   "metadata": {},
   "outputs": [
    {
     "name": "stdout",
     "output_type": "stream",
     "text": [
      "T\n",
      "h\n",
      "i\n",
      "s\n",
      " \n",
      "i\n",
      "s\n",
      " \n",
      "F\n",
      "i\n",
      "r\n",
      "s\n",
      "t\n",
      " \n",
      "L\n",
      "i\n",
      "n\n",
      "e\n",
      "\n",
      "\n",
      "T\n",
      "h\n",
      "i\n",
      "s\n",
      " \n",
      "i\n",
      "s\n",
      " \n",
      "S\n",
      "e\n",
      "c\n",
      "o\n",
      "n\n",
      "d\n",
      " \n",
      "L\n",
      "i\n",
      "n\n",
      "e\n",
      "\n",
      "\n",
      "T\n",
      "h\n",
      "i\n",
      "s\n",
      " \n",
      "i\n",
      "s\n",
      " \n",
      "T\n",
      "h\n",
      "i\n",
      "r\n",
      "d\n",
      " \n",
      "L\n",
      "i\n",
      "n\n",
      "e\n",
      "\n",
      "\n",
      "\n",
      "\n",
      "T\n",
      "h\n",
      "i\n",
      "s\n",
      " \n",
      "i\n",
      "s\n",
      " \n",
      "L\n",
      "a\n",
      "s\n",
      "t\n",
      " \n",
      "L\n",
      "i\n",
      "n\n",
      "e\n",
      "\n",
      "\n"
     ]
    }
   ],
   "source": [
    "f=open(\"saturday.txt\")\n",
    "for c in f.read():\n",
    "    print(c)"
   ]
  },
  {
   "cell_type": "code",
   "execution_count": 79,
   "id": "8327307c-060e-4ee6-9aa1-69885aa3d1a5",
   "metadata": {},
   "outputs": [],
   "source": [
    "f.close()"
   ]
  },
  {
   "cell_type": "code",
   "execution_count": 80,
   "id": "d666eeb0-f071-48fe-9060-caa26621cb3f",
   "metadata": {},
   "outputs": [
    {
     "data": {
      "text/plain": [
       "'This is First Line\\nThis is Second Line\\nThis is Third Line\\n\\nThis is Last Line\\n'"
      ]
     },
     "execution_count": 80,
     "metadata": {},
     "output_type": "execute_result"
    }
   ],
   "source": [
    "f=open(\"saturday.txt\")\n",
    "f.read()"
   ]
  },
  {
   "cell_type": "code",
   "execution_count": 77,
   "id": "d9536dae-5ef6-40f8-a339-960cddea166c",
   "metadata": {},
   "outputs": [
    {
     "data": {
      "text/plain": [
       "''"
      ]
     },
     "execution_count": 77,
     "metadata": {},
     "output_type": "execute_result"
    }
   ],
   "source": [
    "f.read()#If we are trying to read file again then it will showing empty string \n",
    "        #i.e. it is pointing to end"
   ]
  },
  {
   "cell_type": "code",
   "execution_count": 78,
   "id": "0f7e4e24-5042-48fd-8e78-a635ab437f32",
   "metadata": {},
   "outputs": [
    {
     "data": {
      "text/plain": [
       "82"
      ]
     },
     "execution_count": 78,
     "metadata": {},
     "output_type": "execute_result"
    }
   ],
   "source": [
    "f.tell()#it will tell where is the pointer is poinying"
   ]
  },
  {
   "cell_type": "code",
   "execution_count": 74,
   "id": "2f2f3639-14b4-463d-be77-cc502bed6d8a",
   "metadata": {},
   "outputs": [
    {
     "data": {
      "text/plain": [
       "0"
      ]
     },
     "execution_count": 74,
     "metadata": {},
     "output_type": "execute_result"
    }
   ],
   "source": [
    "f.seek(0)#Start from where we want to read the text"
   ]
  },
  {
   "cell_type": "code",
   "execution_count": 57,
   "id": "5fcecdfb-ff8a-47e5-ae69-8fc504746e5b",
   "metadata": {},
   "outputs": [
    {
     "data": {
      "text/plain": [
       "'This is First Line\\nThis is Second Line\\nThis is Third Line\\n\\nThis is Last Line\\n'"
      ]
     },
     "execution_count": 57,
     "metadata": {},
     "output_type": "execute_result"
    }
   ],
   "source": [
    "f.read()"
   ]
  },
  {
   "cell_type": "code",
   "execution_count": 58,
   "id": "bb110068-4d1a-48c3-9eb0-5d74d194cfed",
   "metadata": {},
   "outputs": [
    {
     "data": {
      "text/plain": [
       "82"
      ]
     },
     "execution_count": 58,
     "metadata": {},
     "output_type": "execute_result"
    }
   ],
   "source": [
    "f.tell()"
   ]
  },
  {
   "cell_type": "code",
   "execution_count": 62,
   "id": "dfac74af-3f09-4005-a1f1-cca5454ef81c",
   "metadata": {},
   "outputs": [
    {
     "data": {
      "text/plain": [
       "10"
      ]
     },
     "execution_count": 62,
     "metadata": {},
     "output_type": "execute_result"
    }
   ],
   "source": [
    "f.seek(10)"
   ]
  },
  {
   "cell_type": "code",
   "execution_count": 64,
   "id": "fee06966-c70a-47d0-bdf1-a2b9543e982b",
   "metadata": {},
   "outputs": [
    {
     "data": {
      "text/plain": [
       "10"
      ]
     },
     "execution_count": 64,
     "metadata": {},
     "output_type": "execute_result"
    }
   ],
   "source": [
    "f.tell()"
   ]
  },
  {
   "cell_type": "code",
   "execution_count": 81,
   "id": "22180221-6500-46c2-8ed7-ebe5419ddd4b",
   "metadata": {},
   "outputs": [
    {
     "data": {
      "text/plain": [
       "20"
      ]
     },
     "execution_count": 81,
     "metadata": {},
     "output_type": "execute_result"
    }
   ],
   "source": [
    "f.seek(20)"
   ]
  },
  {
   "cell_type": "code",
   "execution_count": 82,
   "id": "0dc231c4-7676-4b7f-8155-517707341d30",
   "metadata": {},
   "outputs": [
    {
     "data": {
      "text/plain": [
       "20"
      ]
     },
     "execution_count": 82,
     "metadata": {},
     "output_type": "execute_result"
    }
   ],
   "source": [
    "f.tell()"
   ]
  },
  {
   "cell_type": "code",
   "execution_count": 83,
   "id": "02fdd900-ca85-4563-b1fe-a6abd6f95f3f",
   "metadata": {},
   "outputs": [
    {
     "data": {
      "text/plain": [
       "'This '"
      ]
     },
     "execution_count": 83,
     "metadata": {},
     "output_type": "execute_result"
    }
   ],
   "source": [
    "f.read(5)"
   ]
  },
  {
   "cell_type": "code",
   "execution_count": 84,
   "id": "bccd1adb-afeb-410d-98dc-319fedc10856",
   "metadata": {},
   "outputs": [
    {
     "name": "stdout",
     "output_type": "stream",
     "text": [
      "i s   S e c o n d   L i n e \n",
      " T h i s   i s   T h i r d   L i n e \n",
      " \n",
      " T h i s   i s   L a s t   L i n e \n",
      " "
     ]
    }
   ],
   "source": [
    "for c in f.read():\n",
    "    print(c,end=' ')\n",
    " "
   ]
  },
  {
   "cell_type": "code",
   "execution_count": 87,
   "id": "b2d6ca8e-0075-4baa-b3d3-ff45ed1b0924",
   "metadata": {},
   "outputs": [
    {
     "name": "stdout",
     "output_type": "stream",
     "text": [
      "This is First Line\n",
      "This is Second Line\n",
      "This is Third Line\n",
      "\n",
      "This is Last Line\n"
     ]
    }
   ],
   "source": [
    "f.seek(0)\n",
    "for c in f.read():\n",
    "    print(c,end='')\n",
    " "
   ]
  },
  {
   "cell_type": "code",
   "execution_count": 88,
   "id": "b84cc9a4-c9b4-4d4d-9be6-de07a2540b3f",
   "metadata": {},
   "outputs": [
    {
     "name": "stdout",
     "output_type": "stream",
     "text": [
      "T*h*i*s* *i*s* *F*i*r*s*t* *L*i*n*e*\n",
      "*T*h*i*s* *i*s* *S*e*c*o*n*d* *L*i*n*e*\n",
      "*T*h*i*s* *i*s* *T*h*i*r*d* *L*i*n*e*\n",
      "*\n",
      "*T*h*i*s* *i*s* *L*a*s*t* *L*i*n*e*\n",
      "*"
     ]
    }
   ],
   "source": [
    "f.seek(0)\n",
    "for c in f.read():\n",
    "    print(c,end='*')\n",
    "f.close()    "
   ]
  },
  {
   "cell_type": "code",
   "execution_count": 89,
   "id": "e90918f9-47f0-44e5-99af-12ac421167e2",
   "metadata": {},
   "outputs": [],
   "source": [
    "f=open(\"saturday.txt\")"
   ]
  },
  {
   "cell_type": "code",
   "execution_count": 90,
   "id": "a33752a1-e9e8-4887-8cec-e932cb927353",
   "metadata": {},
   "outputs": [
    {
     "data": {
      "text/plain": [
       "'This is First Line\\n'"
      ]
     },
     "execution_count": 90,
     "metadata": {},
     "output_type": "execute_result"
    }
   ],
   "source": [
    "f.readline()"
   ]
  },
  {
   "cell_type": "code",
   "execution_count": 91,
   "id": "2e23fba2-73d7-400b-b39e-0fc40edadeaa",
   "metadata": {},
   "outputs": [
    {
     "data": {
      "text/plain": [
       "'This is Second Line\\n'"
      ]
     },
     "execution_count": 91,
     "metadata": {},
     "output_type": "execute_result"
    }
   ],
   "source": [
    "f.readline()\n"
   ]
  },
  {
   "cell_type": "code",
   "execution_count": 92,
   "id": "50675ffa-26a0-4795-94ee-b3fdca55867d",
   "metadata": {},
   "outputs": [
    {
     "data": {
      "text/plain": [
       "'This is Third Line\\n'"
      ]
     },
     "execution_count": 92,
     "metadata": {},
     "output_type": "execute_result"
    }
   ],
   "source": [
    "f.readline()\n"
   ]
  },
  {
   "cell_type": "code",
   "execution_count": 93,
   "id": "57aa47b3-2177-42c4-889e-4078bd504826",
   "metadata": {},
   "outputs": [
    {
     "data": {
      "text/plain": [
       "'\\n'"
      ]
     },
     "execution_count": 93,
     "metadata": {},
     "output_type": "execute_result"
    }
   ],
   "source": [
    "f.readline()\n"
   ]
  },
  {
   "cell_type": "code",
   "execution_count": 94,
   "id": "fb32c1a9-0cc2-4cd6-8685-a48eb31966a4",
   "metadata": {},
   "outputs": [
    {
     "data": {
      "text/plain": [
       "63"
      ]
     },
     "execution_count": 94,
     "metadata": {},
     "output_type": "execute_result"
    }
   ],
   "source": [
    "f.tell()"
   ]
  },
  {
   "cell_type": "code",
   "execution_count": 95,
   "id": "13a7e871-0df7-474b-ad73-b963b3261139",
   "metadata": {},
   "outputs": [],
   "source": [
    "f=open(\"saturday.txt\")"
   ]
  },
  {
   "cell_type": "code",
   "execution_count": 96,
   "id": "f3c420e3-5ca5-49d8-a620-c16befa9b469",
   "metadata": {},
   "outputs": [
    {
     "data": {
      "text/plain": [
       "['This is First Line\\n',\n",
       " 'This is Second Line\\n',\n",
       " 'This is Third Line\\n',\n",
       " '\\n',\n",
       " 'This is Last Line\\n']"
      ]
     },
     "execution_count": 96,
     "metadata": {},
     "output_type": "execute_result"
    }
   ],
   "source": [
    "f.readlines()"
   ]
  },
  {
   "cell_type": "code",
   "execution_count": 97,
   "id": "a9f0ebf4-cf1a-4698-82a6-52b2a18ff67a",
   "metadata": {},
   "outputs": [
    {
     "ename": "IndexError",
     "evalue": "list index out of range",
     "output_type": "error",
     "traceback": [
      "\u001b[1;31m---------------------------------------------------------------------------\u001b[0m",
      "\u001b[1;31mIndexError\u001b[0m                                Traceback (most recent call last)",
      "Cell \u001b[1;32mIn[97], line 1\u001b[0m\n\u001b[1;32m----> 1\u001b[0m f\u001b[38;5;241m.\u001b[39mreadlines()[\u001b[38;5;241m2\u001b[39m]\n",
      "\u001b[1;31mIndexError\u001b[0m: list index out of range"
     ]
    }
   ],
   "source": [
    "f.readlines()[2]"
   ]
  },
  {
   "cell_type": "code",
   "execution_count": 98,
   "id": "8683620e-85c8-4e65-bf87-3addaf19c6f6",
   "metadata": {},
   "outputs": [
    {
     "data": {
      "text/plain": [
       "0"
      ]
     },
     "execution_count": 98,
     "metadata": {},
     "output_type": "execute_result"
    }
   ],
   "source": [
    "f.seek(0)"
   ]
  },
  {
   "cell_type": "code",
   "execution_count": 99,
   "id": "3822be7f-fc31-47f2-86f8-398ba1dd454a",
   "metadata": {},
   "outputs": [
    {
     "data": {
      "text/plain": [
       "'This is Third Line\\n'"
      ]
     },
     "execution_count": 99,
     "metadata": {},
     "output_type": "execute_result"
    }
   ],
   "source": [
    "f.readlines()[2]"
   ]
  },
  {
   "cell_type": "code",
   "execution_count": 100,
   "id": "33d66bf7-d814-4118-a11f-de1eb73c092b",
   "metadata": {},
   "outputs": [
    {
     "data": {
      "text/plain": [
       "[]"
      ]
     },
     "execution_count": 100,
     "metadata": {},
     "output_type": "execute_result"
    }
   ],
   "source": [
    "f.readlines()"
   ]
  },
  {
   "cell_type": "code",
   "execution_count": 101,
   "id": "4ae50712-2a6c-4a37-a18d-445856040fe9",
   "metadata": {},
   "outputs": [
    {
     "name": "stdout",
     "output_type": "stream",
     "text": [
      "This is First Line\n",
      "\n",
      "This is Second Line\n",
      "\n",
      "This is Third Line\n",
      "\n",
      "\n",
      "\n",
      "This is Last Line\n",
      "\n"
     ]
    }
   ],
   "source": [
    "f=open(\"saturday.txt\")\n",
    "for line in f.readlines():\n",
    "    print(line)"
   ]
  },
  {
   "cell_type": "code",
   "execution_count": 102,
   "id": "d367f43a-d602-40dd-ac42-85472ff135ef",
   "metadata": {},
   "outputs": [
    {
     "name": "stdout",
     "output_type": "stream",
     "text": [
      "This is First Line\n",
      "This is Second Line\n",
      "This is Third Line\n",
      "\n",
      "This is Last Line\n"
     ]
    }
   ],
   "source": [
    "f=open(\"saturday.txt\")\n",
    "for line in f.readlines():\n",
    "    print(line,end=\"\")"
   ]
  },
  {
   "cell_type": "code",
   "execution_count": 3,
   "id": "307a5a16-dfd2-4dce-adcb-26e681daa171",
   "metadata": {},
   "outputs": [
    {
     "name": "stdout",
     "output_type": "stream",
     "text": [
      "['a', 'b', 'c', 'd', 'A']\n"
     ]
    }
   ],
   "source": [
    "data=['a','b','c','d']\n",
    "for i in data:\n",
    "    data.append(i.upper())\n",
    "    break\n",
    "print(data)"
   ]
  },
  {
   "cell_type": "code",
   "execution_count": 9,
   "id": "f82255df-3db4-4477-9e19-551df487e5a6",
   "metadata": {},
   "outputs": [
    {
     "data": {
      "text/plain": [
       "6"
      ]
     },
     "execution_count": 9,
     "metadata": {},
     "output_type": "execute_result"
    }
   ],
   "source": [
    "f=open(\"saturday.txt\",\"a\")\n",
    "f.write(\"Hello Evreyone you are really good people!!!\")\n",
    "f.write(\"hello\\n\")"
   ]
  },
  {
   "cell_type": "code",
   "execution_count": 10,
   "id": "d4d62db5-fe7d-4761-85bc-0d7df2890cf8",
   "metadata": {},
   "outputs": [
    {
     "data": {
      "text/plain": [
       "'C:\\\\Users\\\\HP\\\\DATA ANALYTICS'"
      ]
     },
     "execution_count": 10,
     "metadata": {},
     "output_type": "execute_result"
    }
   ],
   "source": [
    "pwd"
   ]
  },
  {
   "cell_type": "code",
   "execution_count": 11,
   "id": "7d5518f0-512e-4da9-89f0-b3455777491b",
   "metadata": {},
   "outputs": [
    {
     "data": {
      "text/plain": [
       "16"
      ]
     },
     "execution_count": 11,
     "metadata": {},
     "output_type": "execute_result"
    }
   ],
   "source": [
    "f=open(\"saturday.txt\",\"a\")\n",
    "f.write(\"GOOD MORNING !!!\")"
   ]
  },
  {
   "cell_type": "code",
   "execution_count": 12,
   "id": "a5e9dbad-4cc0-4ba5-ad58-1115185a816a",
   "metadata": {},
   "outputs": [],
   "source": [
    "f.close()"
   ]
  },
  {
   "cell_type": "code",
   "execution_count": 13,
   "id": "60d5419f-6f61-4d4c-9ea5-4a57e45b70a0",
   "metadata": {},
   "outputs": [],
   "source": [
    "f=open(\"s1.txt\",\"a\")"
   ]
  },
  {
   "cell_type": "code",
   "execution_count": 14,
   "id": "92e9c5b1-d3ec-48c0-b3c3-05183ec08ef0",
   "metadata": {},
   "outputs": [],
   "source": [
    "f.close()"
   ]
  },
  {
   "cell_type": "code",
   "execution_count": 17,
   "id": "8e6d0c61-2391-439f-b63f-fdf78f2c74d1",
   "metadata": {},
   "outputs": [],
   "source": [
    "import matplotlib.pyplot as plt\n",
    "import numpy as np"
   ]
  },
  {
   "cell_type": "code",
   "execution_count": 21,
   "id": "f636171f-b987-4407-b88c-a64547c34c2b",
   "metadata": {},
   "outputs": [],
   "source": [
    "x=np.linspace(0,10,5)"
   ]
  },
  {
   "cell_type": "code",
   "execution_count": 22,
   "id": "4cedee09-8bcd-44f6-989c-f3cf5c132cd1",
   "metadata": {},
   "outputs": [],
   "source": [
    "y=x**2"
   ]
  },
  {
   "cell_type": "code",
   "execution_count": 23,
   "id": "5718b2f4-70d7-44c4-b724-28b7d34178a6",
   "metadata": {},
   "outputs": [
    {
     "data": {
      "text/plain": [
       "[<matplotlib.lines.Line2D at 0x1603a5e5f70>]"
      ]
     },
     "execution_count": 23,
     "metadata": {},
     "output_type": "execute_result"
    },
    {
     "data": {
      "image/png": "[encoded data removed]",
      "text/plain": [
       "<Figure size 640x480 with 1 Axes>"
      ]
     },
     "metadata": {},
     "output_type": "display_data"
    }
   ],
   "source": [
    "plt.plot(x,y)"
   ]
  },
  {
   "cell_type": "code",
   "execution_count": 25,
   "id": "b18a8d96-3599-487f-93b5-88f899bb11ab",
   "metadata": {},
   "outputs": [
    {
     "data": {
      "text/plain": [
       "[<matplotlib.lines.Line2D at 0x160376f6c90>]"
      ]
     },
     "execution_count": 25,
     "metadata": {},
     "output_type": "execute_result"
    },
    {
     "data": {
      "image/png": "[encoded data removed]",
      "text/plain": [
       "<Figure size 640x480 with 1 Axes>"
      ]
     },
     "metadata": {},
     "output_type": "display_data"
    }
   ],
   "source": [
    "plt.title(\"Graph of x vs y\")\n",
    "plt.xlabel(\"This is X value\")\n",
    "plt.ylabel(\"This is y value\")\n",
    "plt.plot(x,y)"
   ]
  },
  {
   "cell_type": "code",
   "execution_count": 28,
   "id": "abc8abce-7069-4b19-b4e3-017942c5c031",
   "metadata": {},
   "outputs": [
    {
     "data": {
      "text/plain": [
       "Text(0, 0.5, 'This is Y Value')"
      ]
     },
     "execution_count": 28,
     "metadata": {},
     "output_type": "execute_result"
    },
    {
     "data": {
      "image/png": "[encoded data removed]",
      "text/plain": [
       "<Figure size 640x480 with 1 Axes>"
      ]
     },
     "metadata": {},
     "output_type": "display_data"
    }
   ],
   "source": [
    "plt.plot(x,y,\"r\")\n",
    "plt.title(\"Graph of X Vs Y\")\n",
    "plt.xlabel(\"This is X Value\")\n",
    "plt.ylabel(\"This is Y Value\")"
   ]
  },
  {
   "cell_type": "code",
   "execution_count": 29,
   "id": "a4a18c9a-ee23-4c13-a50f-801d97f48d4e",
   "metadata": {},
   "outputs": [
    {
     "data": {
      "text/plain": [
       "Text(0, 0.5, 'This is Y Value')"
      ]
     },
     "execution_count": 29,
     "metadata": {},
     "output_type": "execute_result"
    },
    {
     "data": {
      "image/png": "[encoded data removed]",
      "text/plain": [
       "<Figure size 640x480 with 1 Axes>"
      ]
     },
     "metadata": {},
     "output_type": "display_data"
    }
   ],
   "source": [
    "plt.plot(x,y,\"g*-\")\n",
    "plt.title(\"Graph of X Vs Y\")\n",
    "plt.xlabel(\"This is X Value\")\n",
    "plt.ylabel(\"This is Y Value\")"
   ]
  },
  {
   "cell_type": "code",
   "execution_count": 30,
   "id": "2ce38159-a946-4375-a5ad-7d79732850f3",
   "metadata": {},
   "outputs": [
    {
     "data": {
      "image/png": "[encoded data removed]",
      "text/plain": [
       "<Figure size 640x480 with 1 Axes>"
      ]
     },
     "metadata": {},
     "output_type": "display_data"
    }
   ],
   "source": [
    "plt.plot(x,y,\"g*-\")\n",
    "plt.title(\"Graph of X Vs Y\")\n",
    "plt.xlabel(\"This is X Value\")\n",
    "plt.ylabel(\"This is Y Value\")\n",
    "plt.show()"
   ]
  },
  {
   "cell_type": "code",
   "execution_count": 31,
   "id": "5d457ff7-fe50-470c-9021-ed966318f34f",
   "metadata": {},
   "outputs": [
    {
     "ename": "ModuleNotFoundError",
     "evalue": "No module named 'folium'",
     "output_type": "error",
     "traceback": [
      "\u001b[1;31m---------------------------------------------------------------------------\u001b[0m",
      "\u001b[1;31mModuleNotFoundError\u001b[0m                       Traceback (most recent call last)",
      "Cell \u001b[1;32mIn[31], line 1\u001b[0m\n\u001b[1;32m----> 1\u001b[0m \u001b[38;5;28;01mimport\u001b[39;00m \u001b[38;5;21;01mfolium\u001b[39;00m\n",
      "\u001b[1;31mModuleNotFoundError\u001b[0m: No module named 'folium'"
     ]
    }
   ],
   "source": [
    "import folium"
   ]
  },
  {
   "cell_type": "code",
   "execution_count": 32,
   "id": "99141b84-6292-43a2-a424-cc76d10ef9a3",
   "metadata": {},
   "outputs": [
    {
     "name": "stdout",
     "output_type": "stream",
     "text": [
      "Collecting folium\n",
      "  Downloading folium-0.19.4-py2.py3-none-any.whl.metadata (3.8 kB)\n",
      "Collecting branca>=0.6.0 (from folium)\n",
      "  Downloading branca-0.8.1-py3-none-any.whl.metadata (1.5 kB)\n",
      "Requirement already satisfied: jinja2>=2.9 in c:\\users\\hp\\anaconda3\\lib\\site-packages (from folium) (3.1.4)\n",
      "Requirement already satisfied: numpy in c:\\users\\hp\\anaconda3\\lib\\site-packages (from folium) (1.26.4)\n",
      "Requirement already satisfied: requests in c:\\users\\hp\\anaconda3\\lib\\site-packages (from folium) (2.32.2)\n",
      "Requirement already satisfied: xyzservices in c:\\users\\hp\\anaconda3\\lib\\site-packages (from folium) (2022.9.0)\n",
      "Requirement already satisfied: MarkupSafe>=2.0 in c:\\users\\hp\\anaconda3\\lib\\site-packages (from jinja2>=2.9->folium) (2.1.3)\n",
      "Requirement already satisfied: charset-normalizer<4,>=2 in c:\\users\\hp\\anaconda3\\lib\\site-packages (from requests->folium) (2.0.4)\n",
      "Requirement already satisfied: idna<4,>=2.5 in c:\\users\\hp\\anaconda3\\lib\\site-packages (from requests->folium) (3.7)\n",
      "Requirement already satisfied: urllib3<3,>=1.21.1 in c:\\users\\hp\\anaconda3\\lib\\site-packages (from requests->folium) (2.2.2)\n",
      "Requirement already satisfied: certifi>=2017.4.17 in c:\\users\\hp\\anaconda3\\lib\\site-packages (from requests->folium) (2024.8.30)\n",
      "Downloading folium-0.19.4-py2.py3-none-any.whl (110 kB)\n",
      "   ---------------------------------------- 0.0/110.5 kB ? eta -:--:--\n",
      "   ---------------------------------------- 0.0/110.5 kB ? eta -:--:--\n",
      "   --- ------------------------------------ 10.2/110.5 kB ? eta -:--:--\n",
      "   -------------- ------------------------ 41.0/110.5 kB 388.9 kB/s eta 0:00:01\n",
      "   ----------------------------------- -- 102.4/110.5 kB 837.8 kB/s eta 0:00:01\n",
      "   -------------------------------------- 110.5/110.5 kB 711.1 kB/s eta 0:00:00\n",
      "Downloading branca-0.8.1-py3-none-any.whl (26 kB)\n",
      "Installing collected packages: branca, folium\n",
      "Successfully installed branca-0.8.1 folium-0.19.4\n"
     ]
    }
   ],
   "source": [
    "!pip install folium"
   ]
  },
  {
   "cell_type": "code",
   "execution_count": 36,
   "id": "98398db2-25b9-4c26-9e71-2681de4fcdd3",
   "metadata": {},
   "outputs": [
    {
     "data": {
      "text/html": [
       "<div style=\"width:100%;\"><div style=\"position:relative;width:100%;height:0;padding-bottom:60%;\"><span style=\"color:#565656\">Make this Notebook Trusted to load map: File -> Trust Notebook</span><iframe srcdoc=\"&lt;!DOCTYPE html&gt;\n",
       "&lt;html&gt;\n",
       "&lt;head&gt;\n",
       "    \n",
       "    &lt;meta http-equiv=&quot;content-type&quot; content=&quot;text/html; charset=UTF-8&quot; /&gt;\n",
       "    \n",
       "        &lt;script&gt;\n",
       "            L_NO_TOUCH = false;\n",
       "            L_DISABLE_3D = false;\n",
       "        &lt;/script&gt;\n",
       "    \n",
       "    &lt;style&gt;html, body {width: 100%;height: 100%;margin: 0;padding: 0;}&lt;/style&gt;\n",
       "    &lt;style&gt;#map {position:absolute;top:0;bottom:0;right:0;left:0;}&lt;/style&gt;\n",
       "    &lt;script src=&quot;https://cdn.jsdelivr.net/npm/leaflet@1.9.3/dist/leaflet.js&quot;&gt;&lt;/script&gt;\n",
       "    &lt;script src=&quot;https://code.jquery.com/jquery-3.7.1.min.js&quot;&gt;&lt;/script&gt;\n",
       "    &lt;script src=&quot;https://cdn.jsdelivr.net/npm/bootstrap@5.2.2/dist/js/bootstrap.bundle.min.js&quot;&gt;&lt;/script&gt;\n",
       "    &lt;script src=&quot;https://cdnjs.cloudflare.com/ajax/libs/Leaflet.awesome-markers/2.0.2/leaflet.awesome-markers.js&quot;&gt;&lt;/script&gt;\n",
       "    &lt;link rel=&quot;stylesheet&quot; href=&quot;https://cdn.jsdelivr.net/npm/leaflet@1.9.3/dist/leaflet.css&quot;/&gt;\n",
       "    &lt;link rel=&quot;stylesheet&quot; href=&quot;https://cdn.jsdelivr.net/npm/bootstrap@5.2.2/dist/css/bootstrap.min.css&quot;/&gt;\n",
       "    &lt;link rel=&quot;stylesheet&quot; href=&quot;https://netdna.bootstrapcdn.com/bootstrap/3.0.0/css/bootstrap-glyphicons.css&quot;/&gt;\n",
       "    &lt;link rel=&quot;stylesheet&quot; href=&quot;https://cdn.jsdelivr.net/npm/@fortawesome/fontawesome-free@6.2.0/css/all.min.css&quot;/&gt;\n",
       "    &lt;link rel=&quot;stylesheet&quot; href=&quot;https://cdnjs.cloudflare.com/ajax/libs/Leaflet.awesome-markers/2.0.2/leaflet.awesome-markers.css&quot;/&gt;\n",
       "    &lt;link rel=&quot;stylesheet&quot; href=&quot;https://cdn.jsdelivr.net/gh/python-visualization/folium/folium/templates/leaflet.awesome.rotate.min.css&quot;/&gt;\n",
       "    \n",
       "            &lt;meta name=&quot;viewport&quot; content=&quot;width=device-width,\n",
       "                initial-scale=1.0, maximum-scale=1.0, user-scalable=no&quot; /&gt;\n",
       "            &lt;style&gt;\n",
       "                #map_96c71b2b4d4f86bc26c5809690609859 {\n",
       "                    position: relative;\n",
       "                    width: 100.0%;\n",
       "                    height: 100.0%;\n",
       "                    left: 0.0%;\n",
       "                    top: 0.0%;\n",
       "                }\n",
       "                .leaflet-container { font-size: 1rem; }\n",
       "            &lt;/style&gt;\n",
       "        \n",
       "&lt;/head&gt;\n",
       "&lt;body&gt;\n",
       "    \n",
       "    \n",
       "            &lt;div class=&quot;folium-map&quot; id=&quot;map_96c71b2b4d4f86bc26c5809690609859&quot; &gt;&lt;/div&gt;\n",
       "        \n",
       "&lt;/body&gt;\n",
       "&lt;script&gt;\n",
       "    \n",
       "    \n",
       "            var map_96c71b2b4d4f86bc26c5809690609859 = L.map(\n",
       "                &quot;map_96c71b2b4d4f86bc26c5809690609859&quot;,\n",
       "                {\n",
       "                    center: [18.5204, 73.8567],\n",
       "                    crs: L.CRS.EPSG3857,\n",
       "                    ...{\n",
       "  &quot;zoom&quot;: 10,\n",
       "  &quot;zoomControl&quot;: true,\n",
       "  &quot;preferCanvas&quot;: false,\n",
       "}\n",
       "\n",
       "                }\n",
       "            );\n",
       "\n",
       "            \n",
       "\n",
       "        \n",
       "    \n",
       "            var tile_layer_69a5335c759d589ec0eaf3c0e68b0566 = L.tileLayer(\n",
       "                &quot;https://tile.openstreetmap.org/{z}/{x}/{y}.png&quot;,\n",
       "                {\n",
       "  &quot;minZoom&quot;: 0,\n",
       "  &quot;maxZoom&quot;: 19,\n",
       "  &quot;maxNativeZoom&quot;: 19,\n",
       "  &quot;noWrap&quot;: false,\n",
       "  &quot;attribution&quot;: &quot;\\u0026copy; \\u003ca href=\\&quot;https://www.openstreetmap.org/copyright\\&quot;\\u003eOpenStreetMap\\u003c/a\\u003e contributors&quot;,\n",
       "  &quot;subdomains&quot;: &quot;abc&quot;,\n",
       "  &quot;detectRetina&quot;: false,\n",
       "  &quot;tms&quot;: false,\n",
       "  &quot;opacity&quot;: 1,\n",
       "}\n",
       "\n",
       "            );\n",
       "        \n",
       "    \n",
       "            tile_layer_69a5335c759d589ec0eaf3c0e68b0566.addTo(map_96c71b2b4d4f86bc26c5809690609859);\n",
       "        \n",
       "&lt;/script&gt;\n",
       "&lt;/html&gt;\" style=\"position:absolute;width:100%;height:100%;left:0;top:0;border:none !important;\" allowfullscreen webkitallowfullscreen mozallowfullscreen></iframe></div></div>"
      ],
      "text/plain": [
       "<folium.folium.Map at 0x1603d7b26c0>"
      ]
     },
     "execution_count": 36,
     "metadata": {},
     "output_type": "execute_result"
    }
   ],
   "source": [
    "import folium\n",
    "folium.Map(location=[18.5204 ,73.8567])"
   ]
  },
  {
   "cell_type": "code",
   "execution_count": 37,
   "id": "07e935f8-1b5a-4245-93b4-e8a81d0a2780",
   "metadata": {},
   "outputs": [
    {
     "ename": "ModuleNotFoundError",
     "evalue": "No module named 'pyttsx3'",
     "output_type": "error",
     "traceback": [
      "\u001b[1;31m---------------------------------------------------------------------------\u001b[0m",
      "\u001b[1;31mModuleNotFoundError\u001b[0m                       Traceback (most recent call last)",
      "Cell \u001b[1;32mIn[37], line 1\u001b[0m\n\u001b[1;32m----> 1\u001b[0m \u001b[38;5;28;01mimport\u001b[39;00m \u001b[38;5;21;01mpyttsx3\u001b[39;00m\n",
      "\u001b[1;31mModuleNotFoundError\u001b[0m: No module named 'pyttsx3'"
     ]
    }
   ],
   "source": [
    "import pyttsx3"
   ]
  },
  {
   "cell_type": "code",
   "execution_count": 38,
   "id": "d6d3facc-ab44-43aa-a925-12d1a32b1e25",
   "metadata": {},
   "outputs": [
    {
     "name": "stdout",
     "output_type": "stream",
     "text": [
      "Collecting pyttsx3\n",
      "  Downloading pyttsx3-2.98-py3-none-any.whl.metadata (3.8 kB)\n",
      "Collecting comtypes (from pyttsx3)\n",
      "  Downloading comtypes-1.4.9-py3-none-any.whl.metadata (7.1 kB)\n",
      "Collecting pypiwin32 (from pyttsx3)\n",
      "  Downloading pypiwin32-223-py3-none-any.whl.metadata (236 bytes)\n",
      "Requirement already satisfied: pywin32 in c:\\users\\hp\\anaconda3\\lib\\site-packages (from pyttsx3) (305.1)\n",
      "Downloading pyttsx3-2.98-py3-none-any.whl (34 kB)\n",
      "Downloading comtypes-1.4.9-py3-none-any.whl (234 kB)\n",
      "   ---------------------------------------- 0.0/234.8 kB ? eta -:--:--\n",
      "   -------------------------------------- - 225.3/234.8 kB 6.7 MB/s eta 0:00:01\n",
      "   ---------------------------------------- 234.8/234.8 kB 4.8 MB/s eta 0:00:00\n",
      "Downloading pypiwin32-223-py3-none-any.whl (1.7 kB)\n",
      "Installing collected packages: pypiwin32, comtypes, pyttsx3\n",
      "Successfully installed comtypes-1.4.9 pypiwin32-223 pyttsx3-2.98\n"
     ]
    }
   ],
   "source": [
    "!pip install pyttsx3"
   ]
  },
  {
   "cell_type": "code",
   "execution_count": 42,
   "id": "788a5ef0-ac73-4aab-88f1-92b8eeb38951",
   "metadata": {},
   "outputs": [],
   "source": [
    "import pyttsx3\n",
    "engine=pyttsx3.init()\n",
    "engine.say(\"All of you are really good participants but everyone needs practice! \")\n",
    "engine.runAndWait()\n",
    "voices = engine.getProperty('voices')       #getting details of current voice\n",
    "#engine.setProperty('voice', voices[0].id)  #changing index, changes voices. o for male\n",
    "engine.setProperty('voice', voices[1].id)   #changing index, changes voices. 1 for female\n"
   ]
  },
  {
   "cell_type": "code",
   "execution_count": 45,
   "id": "0551ff78-d925-4d8d-8651-0251984b8776",
   "metadata": {},
   "outputs": [
    {
     "name": "stdout",
     "output_type": "stream",
     "text": [
      "125\n",
      "1.0\n"
     ]
    },
    {
     "ename": "RuntimeError",
     "evalue": "run loop already started",
     "output_type": "error",
     "traceback": [
      "\u001b[1;31m---------------------------------------------------------------------------\u001b[0m",
      "\u001b[1;31mRuntimeError\u001b[0m                              Traceback (most recent call last)",
      "Cell \u001b[1;32mIn[45], line 22\u001b[0m\n\u001b[0;32m     20\u001b[0m engine\u001b[38;5;241m.\u001b[39msay(\u001b[38;5;124m\"\u001b[39m\u001b[38;5;124mHello World!\u001b[39m\u001b[38;5;124m\"\u001b[39m)\n\u001b[0;32m     21\u001b[0m engine\u001b[38;5;241m.\u001b[39msay(\u001b[38;5;124m'\u001b[39m\u001b[38;5;124mMy current speaking rate is \u001b[39m\u001b[38;5;124m'\u001b[39m \u001b[38;5;241m+\u001b[39m \u001b[38;5;28mstr\u001b[39m(rate))\n\u001b[1;32m---> 22\u001b[0m engine\u001b[38;5;241m.\u001b[39mrunAndWait()\n\u001b[0;32m     23\u001b[0m engine\u001b[38;5;241m.\u001b[39mstop()\n\u001b[0;32m     25\u001b[0m \u001b[38;5;124;03m\"\"\"Saving Voice to a file\"\"\"\u001b[39;00m\n",
      "File \u001b[1;32m~\\anaconda3\\Lib\\site-packages\\pyttsx3\\engine.py:180\u001b[0m, in \u001b[0;36mEngine.runAndWait\u001b[1;34m(self)\u001b[0m\n\u001b[0;32m    172\u001b[0m \u001b[38;5;250m\u001b[39m\u001b[38;5;124;03m\"\"\"\u001b[39;00m\n\u001b[0;32m    173\u001b[0m \u001b[38;5;124;03mRuns an event loop until all commands queued up until this method call\u001b[39;00m\n\u001b[0;32m    174\u001b[0m \u001b[38;5;124;03mcomplete. Blocks during the event loop and returns when the queue is\u001b[39;00m\n\u001b[1;32m   (...)\u001b[0m\n\u001b[0;32m    177\u001b[0m \u001b[38;5;124;03m@raise RuntimeError: When the loop is already running\u001b[39;00m\n\u001b[0;32m    178\u001b[0m \u001b[38;5;124;03m\"\"\"\u001b[39;00m\n\u001b[0;32m    179\u001b[0m \u001b[38;5;28;01mif\u001b[39;00m \u001b[38;5;28mself\u001b[39m\u001b[38;5;241m.\u001b[39m_inLoop:\n\u001b[1;32m--> 180\u001b[0m     \u001b[38;5;28;01mraise\u001b[39;00m \u001b[38;5;167;01mRuntimeError\u001b[39;00m(\u001b[38;5;124m'\u001b[39m\u001b[38;5;124mrun loop already started\u001b[39m\u001b[38;5;124m'\u001b[39m)\n\u001b[0;32m    181\u001b[0m \u001b[38;5;28mself\u001b[39m\u001b[38;5;241m.\u001b[39m_inLoop \u001b[38;5;241m=\u001b[39m \u001b[38;5;28;01mTrue\u001b[39;00m\n\u001b[0;32m    182\u001b[0m \u001b[38;5;28mself\u001b[39m\u001b[38;5;241m.\u001b[39m_driverLoop \u001b[38;5;241m=\u001b[39m \u001b[38;5;28;01mTrue\u001b[39;00m\n",
      "\u001b[1;31mRuntimeError\u001b[0m: run loop already started"
     ]
    }
   ],
   "source": [
    "import pyttsx3\n",
    "engine = pyttsx3.init() # object creation\n",
    "\n",
    "\"\"\" RATE\"\"\"\n",
    "rate = engine.getProperty('rate')   # getting details of current speaking rate\n",
    "print (rate)                        #printing current voice rate\n",
    "engine.setProperty('rate', 200)     # setting up new voice rate\n",
    "\n",
    "\n",
    "\"\"\"VOLUME\"\"\"\n",
    "volume = engine.getProperty('volume')   #getting to know current volume level (min=0 and max=1)\n",
    "print (volume)                          #printing current volume level\n",
    "engine.setProperty('volume',1.0)    # setting up volume level  between 0 and 1\n",
    "\n",
    "\"\"\"VOICE\"\"\"\n",
    "voices = engine.getProperty('voices')       #getting details of current voice\n",
    "#engine.setProperty('voice', voices[0].id)  #changing index, changes voices. o for male\n",
    "engine.setProperty('voice', voices[1].id)   #changing index, changes voices. 1 for female\n",
    "\n",
    "engine.say(\"Hello World!\")\n",
    "engine.say('My current speaking rate is ' + str(rate))\n",
    "engine.runAndWait()\n",
    "engine.stop()\n",
    "\n",
    "\"\"\"Saving Voice to a file\"\"\"\n",
    "# On linux make sure that 'espeak' and 'ffmpeg' are installed\n",
    "engine.save_to_file('Hello World', 'test.mp3')\n",
    "engine.runAndWait()"
   ]
  },
  {
   "cell_type": "code",
   "execution_count": 46,
   "id": "dac4a94c-f6c5-4eca-b17f-4c94240e9481",
   "metadata": {},
   "outputs": [
    {
     "name": "stdout",
     "output_type": "stream",
     "text": [
      "129\n"
     ]
    }
   ],
   "source": [
    "##Questions Test\n",
    "print (2**3 + (5 + 6)**(1 + 1))\n"
   ]
  },
  {
   "cell_type": "code",
   "execution_count": 47,
   "id": "edf79dbe-b38b-4aec-ae19-6a8781fad01a",
   "metadata": {},
   "outputs": [
    {
     "name": "stdout",
     "output_type": "stream",
     "text": [
      "Local\n"
     ]
    }
   ],
   "source": [
    "def func(): \n",
    "  global value \n",
    "  value = \"Local\"\n",
    "\n",
    "value = \"Global\" \n",
    "func() \n",
    "print(value)"
   ]
  },
  {
   "cell_type": "code",
   "execution_count": 48,
   "id": "bbef8f2b-d492-4989-b4a6-0c57c8bd653b",
   "metadata": {},
   "outputs": [
    {
     "name": "stdout",
     "output_type": "stream",
     "text": [
      "[2, 4, 6]\n",
      "[2, 4, 6]\n"
     ]
    }
   ],
   "source": [
    "def solve(a): \n",
    "   a = [1, 3, 5] \n",
    "a = [2, 4, 6] \n",
    "print(a) \n",
    "solve(a) \n",
    "print(a)"
   ]
  },
  {
   "cell_type": "code",
   "execution_count": 49,
   "id": "553ccfed-21a1-4415-9754-7fcc73c62a1e",
   "metadata": {},
   "outputs": [
    {
     "name": "stdout",
     "output_type": "stream",
     "text": [
      "10\n"
     ]
    }
   ],
   "source": [
    "def solve(a, b): \n",
    "   return b if a == 0 else solve(b % a, a) \n",
    "print(solve(20, 50))"
   ]
  },
  {
   "cell_type": "code",
   "execution_count": 50,
   "id": "9bd7f433-9f48-4631-9778-c6052fad2ca6",
   "metadata": {},
   "outputs": [
    {
     "name": "stdout",
     "output_type": "stream",
     "text": [
      "0 3 6 9 12 15 "
     ]
    }
   ],
   "source": [
    "count = 0 \n",
    "while(True):\n",
    "   if count % 3 == 0:\n",
    "      print(count, end = \" \")\n",
    "   if(count > 15):\n",
    "      break;\n",
    "   count += 1"
   ]
  },
  {
   "cell_type": "code",
   "execution_count": 51,
   "id": "5a13204f-b388-4393-84d6-de248afabeda",
   "metadata": {},
   "outputs": [
    {
     "name": "stdout",
     "output_type": "stream",
     "text": [
      "33\n"
     ]
    }
   ],
   "source": [
    "print(2 ** 3 + 5 ** 2)"
   ]
  },
  {
   "cell_type": "code",
   "execution_count": 52,
   "id": "79bf2cdb-7cdc-4d04-ae7a-8676cc2a2dbd",
   "metadata": {},
   "outputs": [
    {
     "name": "stdout",
     "output_type": "stream",
     "text": [
      "['abc', [0], 1]\n"
     ]
    }
   ],
   "source": [
    "a = [[], \"abc\", [0], 1, 0] \n",
    "print(list(filter(bool, a)))"
   ]
  },
  {
   "cell_type": "code",
   "execution_count": 53,
   "id": "df9f177b-356d-4fcf-9fb9-075012e3618c",
   "metadata": {},
   "outputs": [
    {
     "name": "stdout",
     "output_type": "stream",
     "text": [
      "[1, 2]\n"
     ]
    }
   ],
   "source": [
    "a = [1, 2, 3, 4] \n",
    "b = [3, 4, 5, 6] \n",
    "c = [x for x in a if x not in b] \n",
    "print(c)"
   ]
  },
  {
   "cell_type": "code",
   "execution_count": 54,
   "id": "e2dd503e-c95f-4a65-892a-f8395027f3c8",
   "metadata": {},
   "outputs": [
    {
     "name": "stdout",
     "output_type": "stream",
     "text": [
      "{1, 3, 5, 6}\n"
     ]
    }
   ],
   "source": [
    "s1 = {1, 2, 3, 4, 5} \n",
    "s2 = {2, 4, 6} \n",
    "print(s1 ^ s2)"
   ]
  },
  {
   "cell_type": "code",
   "execution_count": 56,
   "id": "200c0d8c-389a-4e47-8ff1-c58ef4cc27c1",
   "metadata": {},
   "outputs": [
    {
     "name": "stdout",
     "output_type": "stream",
     "text": [
      "6\n"
     ]
    }
   ],
   "source": [
    "'''\n",
    "set1 = {1, 3, 5} \n",
    "set2 = {2, 4, 6} \n",
    "print(len(set1 + set2))\n",
    "'''\n",
    "set1 = {1, 3, 5}\n",
    "set2 = {2, 4, 6}\n",
    "print(len(set1.union(set2)))  # Output: 6\n"
   ]
  },
  {
   "cell_type": "code",
   "execution_count": 57,
   "id": "1e5ccfd1-7fc4-4e6b-a1cc-9df22eb24b14",
   "metadata": {},
   "outputs": [
    {
     "name": "stdout",
     "output_type": "stream",
     "text": [
      "2 3 -3 3.3\n"
     ]
    }
   ],
   "source": [
    "from math import * \n",
    "a = 2.19 \n",
    "b = 3.999999 \n",
    "c = -3.30 \n",
    "print(int(a), floor(b), ceil(c), fabs(c))"
   ]
  },
  {
   "cell_type": "code",
   "execution_count": 58,
   "id": "52311883-0b94-4c08-a19b-87d55dc7bc11",
   "metadata": {},
   "outputs": [
    {
     "name": "stdout",
     "output_type": "stream",
     "text": [
      "Sunday 1 Monday 2 Tuesday 3 Wednesday 4 "
     ]
    }
   ],
   "source": [
    "def tester(**kwargs): \n",
    "   for key, value in kwargs.items(): \n",
    "     print(key, value, end = \" \") \n",
    "tester(Sunday = 1, Monday = 2, Tuesday = 3, Wednesday = 4)"
   ]
  },
  {
   "cell_type": "code",
   "execution_count": 60,
   "id": "2e78541c-97e7-4407-b0e9-2df2c110222e",
   "metadata": {},
   "outputs": [
    {
     "name": "stdout",
     "output_type": "stream",
     "text": [
      "Sunday Monday Tuesday Wednesday "
     ]
    }
   ],
   "source": [
    "def tester(*argv): \n",
    "   for arg in argv: \n",
    "      print(arg, end = ' ') \n",
    "tester('Sunday', 'Monday', 'Tuesday', 'Wednesday')"
   ]
  },
  {
   "cell_type": "code",
   "execution_count": 61,
   "id": "546a0d6a-1fdb-4812-ac52-c7b490fa50f7",
   "metadata": {},
   "outputs": [
    {
     "name": "stdout",
     "output_type": "stream",
     "text": [
      "[0, 1, 4, 9, 16]\n"
     ]
    }
   ],
   "source": [
    "square = lambda x: x ** 2 \n",
    "a = [] \n",
    "for i in range(5): \n",
    "   a.append(square(i)) \n",
    "print(a)"
   ]
  },
  {
   "cell_type": "code",
   "execution_count": 62,
   "id": "3e7fcfae-9cd8-4359-973b-728a7ab0fe12",
   "metadata": {},
   "outputs": [
    {
     "name": "stdout",
     "output_type": "stream",
     "text": [
      "20\n"
     ]
    }
   ],
   "source": [
    "a = \"4, 5\" \n",
    "nums = a.split(',') \n",
    "x, y = nums \n",
    "int_prod = int(x) * int(y) \n",
    "print(int_prod)"
   ]
  },
  {
   "cell_type": "code",
   "execution_count": 64,
   "id": "5a172a90-ff40-4a5e-b554-108a615d440e",
   "metadata": {},
   "outputs": [
    {
     "name": "stdout",
     "output_type": "stream",
     "text": [
      "pYtHoN PrOgRaMmInG\n"
     ]
    }
   ],
   "source": [
    "word = \"Python Programming\" \n",
    "n = len(word) \n",
    "word1 = word.upper() \n",
    "word2 = word.lower() \n",
    "converted_word = \"\" \n",
    "for i in range(n): \n",
    "    if i % 2 == 0: \n",
    "       converted_word += word2[i] \n",
    "    else: converted_word += word1[i] \n",
    "print(converted_word)"
   ]
  },
  {
   "cell_type": "code",
   "execution_count": 65,
   "id": "0c5348a9-50dd-4dc5-83ee-3c14821b56ca",
   "metadata": {},
   "outputs": [
    {
     "name": "stdout",
     "output_type": "stream",
     "text": [
      "{'World': 'Hello', 1: 'First'}\n"
     ]
    }
   ],
   "source": [
    "a = {'Hello':'World', 'First': 1} \n",
    "b = {val: k for k , val in a.items()} \n",
    "print(b)"
   ]
  },
  {
   "cell_type": "code",
   "execution_count": 66,
   "id": "699614f1-7c8c-4100-8691-2211eb90ab9c",
   "metadata": {},
   "outputs": [
    {
     "name": "stdout",
     "output_type": "stream",
     "text": [
      "{1, 2, 3, 4, 5}\n"
     ]
    }
   ],
   "source": [
    "s = {1, 2, 3, 3, 2, 4, 5, 5} \n",
    "print(s)"
   ]
  },
  {
   "cell_type": "code",
   "execution_count": 67,
   "id": "fc56d515-6dee-4dd6-a276-3d690b2fcee5",
   "metadata": {},
   "outputs": [
    {
     "name": "stdout",
     "output_type": "stream",
     "text": [
      "{'first': 'sunday', 'second': 'monday', 1: 3, 2: 4}\n"
     ]
    }
   ],
   "source": [
    "dict1 = {'first' : 'sunday', 'second' : 'monday'} \n",
    "dict2 = {1: 3, 2: 4} \n",
    "dict1.update(dict2) \n",
    "print(dict1)"
   ]
  },
  {
   "cell_type": "code",
   "execution_count": 70,
   "id": "e7e65344-8b1e-4778-b8c5-9fa5c4bcc5d3",
   "metadata": {},
   "outputs": [
    {
     "name": "stdout",
     "output_type": "stream",
     "text": [
      "54 is an even number\n"
     ]
    }
   ],
   "source": [
    "def is_even(number): \n",
    "   message = f\"{number} is an even number\" if number %      2 == 0 else f\"{number} is an odd number\" \n",
    "   return message \n",
    "print(is_even(54))"
   ]
  },
  {
   "cell_type": "code",
   "execution_count": 71,
   "id": "e5738f94-15b7-4d44-8fd3-b33f755f8a74",
   "metadata": {},
   "outputs": [
    {
     "name": "stdout",
     "output_type": "stream",
     "text": [
      "['Monday', 'Tuesday']\n"
     ]
    }
   ],
   "source": [
    "example = [\"Sunday\", \"Monday\", \"Tuesday\", \"Wednesday\"];\n",
    "print(example[-3:-1])"
   ]
  },
  {
   "cell_type": "code",
   "execution_count": 73,
   "id": "ba03d6b5-fce5-4d34-9b62-3c2f672f10df",
   "metadata": {},
   "outputs": [
    {
     "name": "stdout",
     "output_type": "stream",
     "text": [
      "[7, 19, 45, 89]\n"
     ]
    }
   ],
   "source": [
    "numbers = (4, 7, 19, 2, 89, 45, 72, 22) \n",
    "sorted_numbers = sorted(numbers) \n",
    "odd_numbers = [x for x in sorted_numbers if x % 2 != 0] \n",
    "print(odd_numbers)\n"
   ]
  },
  {
   "cell_type": "code",
   "execution_count": 74,
   "id": "ad67299f-00b3-4605-88a9-97fdc5bf8f10",
   "metadata": {},
   "outputs": [
    {
     "name": "stdout",
     "output_type": "stream",
     "text": [
      "Even\n"
     ]
    }
   ],
   "source": [
    "def check(a): \n",
    "     print(\"Even\" if a % 2 == 0 else \"Odd\") \n",
    "check(12)"
   ]
  },
  {
   "cell_type": "code",
   "execution_count": 76,
   "id": "6b688ab8-d916-4f96-9b93-8492db2078d0",
   "metadata": {},
   "outputs": [
    {
     "name": "stdout",
     "output_type": "stream",
     "text": [
      "<class 'filter'>\n"
     ]
    }
   ],
   "source": [
    "numbers = (4, 7, 19, 2, 89, 45, 72, 22) \n",
    "sorted_numbers = sorted(numbers) \n",
    "even = lambda a: a % 2 == 0 \n",
    "even_numbers = filter(even, sorted_numbers) \n",
    "print(type(even_numbers))\n"
   ]
  },
  {
   "cell_type": "code",
   "execution_count": 79,
   "id": "8104d9cf-5772-4009-81bf-ca2d3e894cd0",
   "metadata": {},
   "outputs": [
    {
     "name": "stdout",
     "output_type": "stream",
     "text": [
      "five neither thrive three "
     ]
    }
   ],
   "source": [
    "def thrive(n): \n",
    "     if n % 15 == 0: \n",
    "         print(\"thrive\", end = \" \") \n",
    "     elif n % 3 != 0 and n % 5 != 0: \n",
    "        print(\"neither\", end = \" \") \n",
    "     elif n % 3 == 0: \n",
    "       print(\"three\", end = \" \") \n",
    "     elif n % 5 == 0: \n",
    "       print(\"five\", end = \" \") \n",
    "thrive(35) \n",
    "thrive(56) \n",
    "thrive(15) \n",
    "thrive(39)"
   ]
  },
  {
   "cell_type": "code",
   "execution_count": 81,
   "id": "f1a5bb02-b866-4daf-b259-aac7d9abb18d",
   "metadata": {},
   "outputs": [
    {
     "name": "stdout",
     "output_type": "stream",
     "text": [
      "[2, 4, 7, 19, 22, 45, 72, 89]\n"
     ]
    }
   ],
   "source": [
    "numbers = (4, 7, 19, 2, 89, 45, 72, 22) \n",
    "sorted_numbers = sorted(numbers) \n",
    "print(sorted_numbers)"
   ]
  },
  {
   "cell_type": "code",
   "execution_count": 82,
   "id": "72bb6cb2-fef6-4d09-bfa2-7b7c81117f43",
   "metadata": {},
   "outputs": [
    {
     "name": "stdout",
     "output_type": "stream",
     "text": [
      "<class 'float'>\n",
      "<class 'int'>\n"
     ]
    }
   ],
   "source": [
    "print(type(5 / 2)) \n",
    "print(type(5 // 2))"
   ]
  },
  {
   "cell_type": "code",
   "execution_count": 83,
   "id": "363826ec-0e79-4978-898e-fda58536f0e2",
   "metadata": {},
   "outputs": [
    {
     "name": "stdout",
     "output_type": "stream",
     "text": [
      "<class 'int'>\n",
      "<class 'str'>\n"
     ]
    }
   ],
   "source": [
    "var = 10 \n",
    "print(type(var)) \n",
    "var = \"Hello\" \n",
    "print(type(var))"
   ]
  },
  {
   "cell_type": "code",
   "execution_count": 84,
   "id": "3a486c18-c013-4ba0-a7dd-64d44d959d1f",
   "metadata": {},
   "outputs": [],
   "source": [
    "#Test Finished"
   ]
  },
  {
   "cell_type": "code",
   "execution_count": 5,
   "id": "e7d109ce-77d4-41ba-b436-58885400b9c3",
   "metadata": {},
   "outputs": [],
   "source": [
    "import numpy as np\n",
    "x = np.linspace(0, 5, 11)\n",
    "y = x ** 2"
   ]
  },
  {
   "cell_type": "code",
   "execution_count": 6,
   "id": "0cdaeb85-1d2b-479e-b42f-c1677ad7ed2e",
   "metadata": {},
   "outputs": [
    {
     "data": {
      "text/plain": [
       "[<matplotlib.lines.Line2D at 0x1f19f56f620>]"
      ]
     },
     "execution_count": 6,
     "metadata": {},
     "output_type": "execute_result"
    },
    {
     "data": {
      "image/png": "[encoded data removed]",
      "text/plain": [
       "<Figure size 640x480 with 2 Axes>"
      ]
     },
     "metadata": {},
     "output_type": "display_data"
    }
   ],
   "source": [
    "import matplotlib.pyplot as plt\n",
    "plt.subplot(1,2,1)\n",
    "plt.plot(x,y,\"g--\")\n",
    "plt.subplot(1,2,2)\n",
    "plt.plot(y,x,'r*-')"
   ]
  },
  {
   "cell_type": "code",
   "execution_count": 7,
   "id": "71da5c99-3ff7-4a7c-88cb-dbe0eefd04ed",
   "metadata": {},
   "outputs": [
    {
     "data": {
      "text/plain": [
       "<Figure size 640x480 with 0 Axes>"
      ]
     },
     "metadata": {},
     "output_type": "display_data"
    }
   ],
   "source": [
    "#creatimg empty canvas\n",
    "fig=plt.figure()"
   ]
  },
  {
   "cell_type": "code",
   "execution_count": 8,
   "id": "92ac8ff4-8756-4b7a-8feb-4b5223ec9758",
   "metadata": {},
   "outputs": [
    {
     "data": {
      "text/plain": [
       "<Figure size 640x480 with 0 Axes>"
      ]
     },
     "execution_count": 8,
     "metadata": {},
     "output_type": "execute_result"
    }
   ],
   "source": [
    "fig"
   ]
  },
  {
   "cell_type": "code",
   "execution_count": 9,
   "id": "54c4bc6f-21ea-4d60-afa5-46337e454e1c",
   "metadata": {},
   "outputs": [
    {
     "data": {
      "text/plain": [
       "matplotlib.figure.Figure"
      ]
     },
     "execution_count": 9,
     "metadata": {},
     "output_type": "execute_result"
    }
   ],
   "source": [
    "type(fig)"
   ]
  },
  {
   "cell_type": "code",
   "execution_count": 10,
   "id": "33344dc9-68bf-47a5-9400-da4475a62b3c",
   "metadata": {},
   "outputs": [
    {
     "data": {
      "image/png": "[encoded data removed]",
      "text/plain": [
       "<Figure size 640x480 with 1 Axes>"
      ]
     },
     "metadata": {},
     "output_type": "display_data"
    }
   ],
   "source": [
    "fig=plt.figure()\n",
    "axes=fig.add_axes([0.1,0.1,0.5,0.2])     #left bottom width height(range 0 to 1)"
   ]
  },
  {
   "cell_type": "code",
   "execution_count": 11,
   "id": "21145254-3461-47a5-ad5c-c0dfa1bbc930",
   "metadata": {},
   "outputs": [
    {
     "data": {
      "text/plain": [
       "Text(0.5, 1.0, 'X vs Y')"
      ]
     },
     "execution_count": 11,
     "metadata": {},
     "output_type": "execute_result"
    },
    {
     "data": {
      "image/png": "[encoded data removed]",
      "text/plain": [
       "<Figure size 640x480 with 1 Axes>"
      ]
     },
     "metadata": {},
     "output_type": "display_data"
    }
   ],
   "source": [
    "fig=plt.figure()\n",
    "axes=fig.add_axes([0.1,0.1,0.8,0.4])\n",
    "axes.plot(x,y,\"g--\")\n",
    "axes.set_xlabel(\"X Axis\")\n",
    "axes.set_ylabel(\"Y Axis\")\n",
    "axes.set_title(\"X vs Y\")"
   ]
  },
  {
   "cell_type": "code",
   "execution_count": 12,
   "id": "74414d3a-5dcb-4c46-b161-69095e85858f",
   "metadata": {},
   "outputs": [
    {
     "data": {
      "text/plain": [
       "Text(0.5, 1.0, 'X vs Y')"
      ]
     },
     "execution_count": 12,
     "metadata": {},
     "output_type": "execute_result"
    },
    {
     "data": {
      "image/png": "[encoded data removed]",
      "text/plain": [
       "<Figure size 640x480 with 2 Axes>"
      ]
     },
     "metadata": {},
     "output_type": "display_data"
    }
   ],
   "source": [
    "fig=plt.figure()\n",
    "axes1=fig.add_axes([0.1,0.1,0.8,0.8])\n",
    "axes2=fig.add_axes([0.3,0.5,0.3,0.3])\n",
    "\n",
    "axes1.plot(x,y,\"g--\")\n",
    "axes1.set_xlabel(\"X Axis\")\n",
    "axes1.set_ylabel(\"Y Axis\")\n",
    "axes1.set_title(\"X vs Y\")\n",
    "\n",
    "axes2.plot(x,y,\"r--\")\n",
    "axes2.set_xlabel(\"X Axis\")\n",
    "axes2.set_ylabel(\"Y Axis\")\n",
    "axes2.set_title(\"X vs Y\")\n"
   ]
  },
  {
   "cell_type": "code",
   "execution_count": 13,
   "id": "5940214e-f56d-49e0-b78d-55925aec6203",
   "metadata": {},
   "outputs": [
    {
     "data": {
      "text/html": [
       "<div style=\"width:100%;\"><div style=\"position:relative;width:100%;height:0;padding-bottom:60%;\"><span style=\"color:#565656\">Make this Notebook Trusted to load map: File -> Trust Notebook</span><iframe srcdoc=\"&lt;!DOCTYPE html&gt;\n",
       "&lt;html&gt;\n",
       "&lt;head&gt;\n",
       "    \n",
       "    &lt;meta http-equiv=&quot;content-type&quot; content=&quot;text/html; charset=UTF-8&quot; /&gt;\n",
       "    \n",
       "        &lt;script&gt;\n",
       "            L_NO_TOUCH = false;\n",
       "            L_DISABLE_3D = false;\n",
       "        &lt;/script&gt;\n",
       "    \n",
       "    &lt;style&gt;html, body {width: 100%;height: 100%;margin: 0;padding: 0;}&lt;/style&gt;\n",
       "    &lt;style&gt;#map {position:absolute;top:0;bottom:0;right:0;left:0;}&lt;/style&gt;\n",
       "    &lt;script src=&quot;https://cdn.jsdelivr.net/npm/leaflet@1.9.3/dist/leaflet.js&quot;&gt;&lt;/script&gt;\n",
       "    &lt;script src=&quot;https://code.jquery.com/jquery-3.7.1.min.js&quot;&gt;&lt;/script&gt;\n",
       "    &lt;script src=&quot;https://cdn.jsdelivr.net/npm/bootstrap@5.2.2/dist/js/bootstrap.bundle.min.js&quot;&gt;&lt;/script&gt;\n",
       "    &lt;script src=&quot;https://cdnjs.cloudflare.com/ajax/libs/Leaflet.awesome-markers/2.0.2/leaflet.awesome-markers.js&quot;&gt;&lt;/script&gt;\n",
       "    &lt;link rel=&quot;stylesheet&quot; href=&quot;https://cdn.jsdelivr.net/npm/leaflet@1.9.3/dist/leaflet.css&quot;/&gt;\n",
       "    &lt;link rel=&quot;stylesheet&quot; href=&quot;https://cdn.jsdelivr.net/npm/bootstrap@5.2.2/dist/css/bootstrap.min.css&quot;/&gt;\n",
       "    &lt;link rel=&quot;stylesheet&quot; href=&quot;https://netdna.bootstrapcdn.com/bootstrap/3.0.0/css/bootstrap-glyphicons.css&quot;/&gt;\n",
       "    &lt;link rel=&quot;stylesheet&quot; href=&quot;https://cdn.jsdelivr.net/npm/@fortawesome/fontawesome-free@6.2.0/css/all.min.css&quot;/&gt;\n",
       "    &lt;link rel=&quot;stylesheet&quot; href=&quot;https://cdnjs.cloudflare.com/ajax/libs/Leaflet.awesome-markers/2.0.2/leaflet.awesome-markers.css&quot;/&gt;\n",
       "    &lt;link rel=&quot;stylesheet&quot; href=&quot;https://cdn.jsdelivr.net/gh/python-visualization/folium/folium/templates/leaflet.awesome.rotate.min.css&quot;/&gt;\n",
       "    \n",
       "            &lt;meta name=&quot;viewport&quot; content=&quot;width=device-width,\n",
       "                initial-scale=1.0, maximum-scale=1.0, user-scalable=no&quot; /&gt;\n",
       "            &lt;style&gt;\n",
       "                #map_1ec94c9b603c30d4893f5906cd640b89 {\n",
       "                    position: relative;\n",
       "                    width: 100.0%;\n",
       "                    height: 100.0%;\n",
       "                    left: 0.0%;\n",
       "                    top: 0.0%;\n",
       "                }\n",
       "                .leaflet-container { font-size: 1rem; }\n",
       "            &lt;/style&gt;\n",
       "        \n",
       "&lt;/head&gt;\n",
       "&lt;body&gt;\n",
       "    \n",
       "    \n",
       "            &lt;div class=&quot;folium-map&quot; id=&quot;map_1ec94c9b603c30d4893f5906cd640b89&quot; &gt;&lt;/div&gt;\n",
       "        \n",
       "&lt;/body&gt;\n",
       "&lt;script&gt;\n",
       "    \n",
       "    \n",
       "            var map_1ec94c9b603c30d4893f5906cd640b89 = L.map(\n",
       "                &quot;map_1ec94c9b603c30d4893f5906cd640b89&quot;,\n",
       "                {\n",
       "                    center: [18.5204, 73.8567],\n",
       "                    crs: L.CRS.EPSG3857,\n",
       "                    ...{\n",
       "  &quot;zoom&quot;: 50,\n",
       "  &quot;zoomControl&quot;: true,\n",
       "  &quot;preferCanvas&quot;: false,\n",
       "}\n",
       "\n",
       "                }\n",
       "            );\n",
       "\n",
       "            \n",
       "\n",
       "        \n",
       "    \n",
       "            var tile_layer_ca1bd1ec359ebefb5ff024215b7a79a6 = L.tileLayer(\n",
       "                &quot;https://tile.openstreetmap.org/{z}/{x}/{y}.png&quot;,\n",
       "                {\n",
       "  &quot;minZoom&quot;: 0,\n",
       "  &quot;maxZoom&quot;: 19,\n",
       "  &quot;maxNativeZoom&quot;: 19,\n",
       "  &quot;noWrap&quot;: false,\n",
       "  &quot;attribution&quot;: &quot;\\u0026copy; \\u003ca href=\\&quot;https://www.openstreetmap.org/copyright\\&quot;\\u003eOpenStreetMap\\u003c/a\\u003e contributors&quot;,\n",
       "  &quot;subdomains&quot;: &quot;abc&quot;,\n",
       "  &quot;detectRetina&quot;: false,\n",
       "  &quot;tms&quot;: false,\n",
       "  &quot;opacity&quot;: 1,\n",
       "}\n",
       "\n",
       "            );\n",
       "        \n",
       "    \n",
       "            tile_layer_ca1bd1ec359ebefb5ff024215b7a79a6.addTo(map_1ec94c9b603c30d4893f5906cd640b89);\n",
       "        \n",
       "&lt;/script&gt;\n",
       "&lt;/html&gt;\" style=\"position:absolute;width:100%;height:100%;left:0;top:0;border:none !important;\" allowfullscreen webkitallowfullscreen mozallowfullscreen></iframe></div></div>"
      ],
      "text/plain": [
       "<folium.folium.Map at 0x1f19f4dd520>"
      ]
     },
     "execution_count": 13,
     "metadata": {},
     "output_type": "execute_result"
    }
   ],
   "source": [
    "import folium\n",
    "folium.Map(location=[18.5204, 73.8567],zoom_start=50)"
   ]
  },
  {
   "cell_type": "code",
   "execution_count": 19,
   "id": "a3d3a6a5-7485-431e-8afa-870f14c7f95d",
   "metadata": {},
   "outputs": [
    {
     "data": {
      "text/plain": [
       "Text(0.5, 1.0, 'X vs Y')"
      ]
     },
     "execution_count": 19,
     "metadata": {},
     "output_type": "execute_result"
    },
    {
     "data": {
      "image/png": "[encoded data removed]",
      "text/plain": [
       "<Figure size 640x480 with 1 Axes>"
      ]
     },
     "metadata": {},
     "output_type": "display_data"
    }
   ],
   "source": [
    "fig,axes=plt.subplots()\n",
    "axes.plot(x,y)\n",
    "axes.set_xlabel(\"X\")\n",
    "axes.set_ylabel(\"Y\")\n",
    "axes.set_title(\"X vs Y\")"
   ]
  },
  {
   "cell_type": "code",
   "execution_count": 20,
   "id": "23ec698a-7987-4e09-a6a5-06380bd331e4",
   "metadata": {},
   "outputs": [
    {
     "data": {
      "image/png": "[encoded data removed]",
      "text/plain": [
       "<Figure size 640x480 with 2 Axes>"
      ]
     },
     "metadata": {},
     "output_type": "display_data"
    }
   ],
   "source": [
    "fig, axes=plt.subplots(nrows=1,ncols=2)"
   ]
  },
  {
   "cell_type": "code",
   "execution_count": 21,
   "id": "b85eefa6-2da4-4ab3-aac8-643838ac4361",
   "metadata": {},
   "outputs": [
    {
     "data": {
      "text/plain": [
       "matplotlib.figure.Figure"
      ]
     },
     "execution_count": 21,
     "metadata": {},
     "output_type": "execute_result"
    }
   ],
   "source": [
    "type(fig)"
   ]
  },
  {
   "cell_type": "code",
   "execution_count": 22,
   "id": "af990433-6641-408a-b0a4-0cbe0835099f",
   "metadata": {},
   "outputs": [
    {
     "data": {
      "text/plain": [
       "array([<Axes: >, <Axes: >], dtype=object)"
      ]
     },
     "execution_count": 22,
     "metadata": {},
     "output_type": "execute_result"
    }
   ],
   "source": [
    "axes"
   ]
  },
  {
   "cell_type": "code",
   "execution_count": 25,
   "id": "bfe1f8cb-ae56-4af2-a84f-3c45d89e3b52",
   "metadata": {},
   "outputs": [
    {
     "data": {
      "image/png": "[encoded data removed]",
      "text/plain": [
       "<Figure size 640x480 with 2 Axes>"
      ]
     },
     "metadata": {},
     "output_type": "display_data"
    }
   ],
   "source": [
    "fig, axes = plt.subplots(nrows=1,ncols=2)\n",
    "for ax in axes:\n",
    "    ax.plot(x,y,\"y--\")\n",
    "    ax.set_xlabel(\"X\")\n",
    "    ax.set_ylabel(\"Y\")\n",
    "    ax.set_title(\"Graph of X Vs Y\")\n",
    " \n",
    "fig.tight_layout()"
   ]
  },
  {
   "cell_type": "code",
   "execution_count": 27,
   "id": "a0b60f13-9e55-4958-b5ba-807d60699dab",
   "metadata": {},
   "outputs": [
    {
     "data": {
      "text/plain": [
       "Text(0.5, 1.0, 'title')"
      ]
     },
     "execution_count": 27,
     "metadata": {},
     "output_type": "execute_result"
    },
    {
     "data": {
      "image/png": "[encoded data removed]",
      "text/plain": [
       "<Figure size 1000x300 with 1 Axes>"
      ]
     },
     "metadata": {},
     "output_type": "display_data"
    }
   ],
   "source": [
    "fig, axes = plt.subplots(figsize=(10,3))\n",
    " \n",
    "axes.plot(x, y, 'r')\n",
    "axes.set_xlabel('x')\n",
    "axes.set_ylabel('y')\n",
    "axes.set_title('title')"
   ]
  },
  {
   "cell_type": "code",
   "execution_count": 28,
   "id": "ba9c4c92-c2f1-441c-85fc-e8daf6eab2bc",
   "metadata": {},
   "outputs": [
    {
     "data": {
      "text/plain": [
       "'C:\\\\Users\\\\HP\\\\DATA ANALYTICS'"
      ]
     },
     "execution_count": 28,
     "metadata": {},
     "output_type": "execute_result"
    }
   ],
   "source": [
    "pwd"
   ]
  },
  {
   "cell_type": "code",
   "execution_count": 30,
   "id": "e896b0b7-4ef3-4d28-ab0f-c990ae98a930",
   "metadata": {},
   "outputs": [],
   "source": [
    "fig.savefig(\"today_plot.png\")   #it will save the figure"
   ]
  },
  {
   "cell_type": "code",
   "execution_count": 32,
   "id": "f88f7fe4-21ee-4433-be83-76a203c6ad2b",
   "metadata": {},
   "outputs": [],
   "source": [
    "fig.savefig(\"today_plot1\")   #it can save the figure without extension\n"
   ]
  },
  {
   "cell_type": "code",
   "execution_count": 55,
   "id": "2eb33926-22cb-4125-b4b5-4e96b52129fc",
   "metadata": {},
   "outputs": [
    {
     "data": {
      "text/plain": [
       "<matplotlib.legend.Legend at 0x1f1a3fd5700>"
      ]
     },
     "execution_count": 55,
     "metadata": {},
     "output_type": "execute_result"
    },
    {
     "data": {
      "image/png": "[encoded data removed]",
      "text/plain": [
       "<Figure size 640x480 with 1 Axes>"
      ]
     },
     "metadata": {},
     "output_type": "display_data"
    }
   ],
   "source": [
    "fig=plt.figure()\n",
    "axes=fig.add_axes([0.1,0.2,0.5,0.5])\n",
    " \n",
    "axes.plot(x,x**2,label=\"x**2\")\n",
    "axes.plot(x,x**3,label=\"x**3\")\n",
    "\n",
    "axes.legend(loc=5)  #location where we want to place labels on the figure  (loc=1)==>1st corner\n",
    "#(loc=2)==>2nd corner likewise"
   ]
  },
  {
   "cell_type": "code",
   "execution_count": 56,
   "id": "0221ea58-76b0-4a9c-90f8-36b1ba384fb5",
   "metadata": {},
   "outputs": [
    {
     "data": {
      "text/plain": [
       "[<matplotlib.lines.Line2D at 0x1f1a408c140>]"
      ]
     },
     "execution_count": 56,
     "metadata": {},
     "output_type": "execute_result"
    },
    {
     "data": {
      "image/png": "[encoded data removed]",
      "text/plain": [
       "<Figure size 640x480 with 1 Axes>"
      ]
     },
     "metadata": {},
     "output_type": "display_data"
    }
   ],
   "source": [
    "fig, ax = plt.subplots()\n",
    "ax.plot(x, x**2, 'b.-') # blue line with dots\n",
    "ax.plot(x, x**3, 'g--') # green dashed line"
   ]
  },
  {
   "cell_type": "code",
   "execution_count": 58,
   "id": "ecae7e6e-193c-484a-9c4e-62d96e8b0f2f",
   "metadata": {},
   "outputs": [
    {
     "data": {
      "text/plain": [
       "[<matplotlib.lines.Line2D at 0x1f1a42a5640>]"
      ]
     },
     "execution_count": 58,
     "metadata": {},
     "output_type": "execute_result"
    },
    {
     "data": {
      "image/png": "[encoded data removed]",
      "text/plain": [
       "<Figure size 640x480 with 1 Axes>"
      ]
     },
     "metadata": {},
     "output_type": "display_data"
    }
   ],
   "source": [
    "fig, ax = plt.subplots()\n",
    "\n",
    "ax.plot(x, x+1, color=\"blue\",alpha=0.9) # blue with half transperancy\n",
    "ax.plot(x, x+2, color='green') # green line\n",
    "ax.plot(x, x+3, color='purple') # purple line"
   ]
  },
  {
   "cell_type": "code",
   "execution_count": 59,
   "id": "1220aa3b-cb88-4a7c-967a-15dbf073950d",
   "metadata": {},
   "outputs": [
    {
     "data": {
      "text/plain": [
       "[<matplotlib.lines.Line2D at 0x1f1a532c5f0>]"
      ]
     },
     "execution_count": 59,
     "metadata": {},
     "output_type": "execute_result"
    },
    {
     "data": {
      "image/png": "[encoded data removed]",
      "text/plain": [
       "<Figure size 1200x600 with 1 Axes>"
      ]
     },
     "metadata": {},
     "output_type": "display_data"
    }
   ],
   "source": [
    "fig, ax = plt.subplots(figsize=(12,6))\n",
    " \n",
    "ax.plot(x, x+1, color=\"red\", linewidth=0.25)\n",
    "ax.plot(x, x+2, color=\"red\", linewidth=0.50)\n",
    "ax.plot(x, x+3, color=\"red\", linewidth=1.00)\n",
    "ax.plot(x, x+4, color=\"red\", linewidth=2.00)\n",
    " \n",
    "# possible linestype options ‘-‘, ‘–’, ‘-.’, ‘:’, ‘steps’\n",
    "ax.plot(x, x+5, color=\"green\", lw=3, linestyle='-')\n",
    "ax.plot(x, x+6, color=\"green\", lw=3, ls='-.')\n",
    "ax.plot(x, x+7, color=\"green\", lw=3, ls=':')\n",
    " \n",
    "# custom dash\n",
    "line, = ax.plot(x, x+8, color=\"black\", lw=1.50)\n",
    "line.set_dashes([5, 10, 15, 10]) # format: line length, space length, ...\n",
    " \n",
    "# possible marker symbols: marker = '+', 'o', '*', 's', ',', '.', '1', '2', '3', '4', ...\n",
    "ax.plot(x, x+ 9, color=\"blue\", lw=3, ls='-', marker='+')\n",
    "ax.plot(x, x+10, color=\"blue\", lw=3, ls='--', marker='o')\n",
    "ax.plot(x, x+11, color=\"blue\", lw=3, ls='-', marker='s')\n",
    "ax.plot(x, x+12, color=\"blue\", lw=3, ls='--', marker='1')\n",
    " \n",
    "# marker size and color\n",
    "ax.plot(x, x+13, color=\"purple\", lw=1, ls='-', marker='o', markersize=2)\n",
    "ax.plot(x, x+14, color=\"purple\", lw=1, ls='-', marker='o', markersize=4)\n",
    "ax.plot(x, x+15, color=\"purple\", lw=1, ls='-', marker='o', markersize=8, markerfacecolor=\"red\")\n",
    "ax.plot(x, x+16, color=\"purple\", lw=1, ls='-', marker='s', markersize=10, \n",
    "markerfacecolor=\"yellow\", markeredgewidth=3, markeredgecolor=\"green\")"
   ]
  },
  {
   "cell_type": "markdown",
   "id": "014b74bb-9b17-4226-ac98-cf733b44e5d1",
   "metadata": {},
   "source": [
    "# Scatter plot:>\n",
    "\n",
    "Relation between two numeric variables"
   ]
  },
  {
   "cell_type": "code",
   "execution_count": 60,
   "id": "a68b0d8e-8c75-4717-86fa-b9d5dba58fec",
   "metadata": {},
   "outputs": [
    {
     "data": {
      "text/plain": [
       "array([0. , 0.5, 1. , 1.5, 2. , 2.5, 3. , 3.5, 4. , 4.5, 5. ])"
      ]
     },
     "execution_count": 60,
     "metadata": {},
     "output_type": "execute_result"
    }
   ],
   "source": [
    "x"
   ]
  },
  {
   "cell_type": "code",
   "execution_count": 61,
   "id": "b674526b-9da9-423d-b8d3-fc730ecc6e46",
   "metadata": {},
   "outputs": [
    {
     "data": {
      "text/plain": [
       "array([ 0.  ,  0.25,  1.  ,  2.25,  4.  ,  6.25,  9.  , 12.25, 16.  ,\n",
       "       20.25, 25.  ])"
      ]
     },
     "execution_count": 61,
     "metadata": {},
     "output_type": "execute_result"
    }
   ],
   "source": [
    "y"
   ]
  },
  {
   "cell_type": "code",
   "execution_count": 62,
   "id": "a94a5123-667d-4a13-b937-10efc43b581b",
   "metadata": {},
   "outputs": [
    {
     "data": {
      "text/plain": [
       "<matplotlib.collections.PathCollection at 0x1f1a53524e0>"
      ]
     },
     "execution_count": 62,
     "metadata": {},
     "output_type": "execute_result"
    },
    {
     "data": {
      "image/png": "[encoded data removed]",
      "text/plain": [
       "<Figure size 640x480 with 1 Axes>"
      ]
     },
     "metadata": {},
     "output_type": "display_data"
    }
   ],
   "source": [
    "plt.scatter(x,y)"
   ]
  },
  {
   "cell_type": "markdown",
   "id": "80b5b3f7-d0cc-4e51-9cac-81c6eaa76b24",
   "metadata": {},
   "source": [
    "# Histogram:>"
   ]
  },
  {
   "cell_type": "code",
   "execution_count": 63,
   "id": "7e936356-bef0-48ae-bf54-0fe88db635f3",
   "metadata": {},
   "outputs": [
    {
     "data": {
      "text/plain": [
       "array([ 0.59123571,  0.39700864, -0.25103887, -1.54716053, -1.49618453,\n",
       "       -0.4434917 ,  1.28827983, -0.44883661, -1.84563622, -1.45549309,\n",
       "        0.68017345, -0.43675489,  0.64531724, -0.9428745 , -1.05358491,\n",
       "       -0.45357326,  0.17124767,  0.77963406,  0.3806526 , -1.85659832,\n",
       "       -0.07366507,  0.41343677, -0.05206806, -1.27547667,  0.89568822,\n",
       "        0.26953684,  1.23766984, -2.76221962, -2.31796202, -0.77526771,\n",
       "        2.07211316, -0.24503999, -0.32816034, -1.49197984,  0.57107796,\n",
       "        0.0836607 , -1.53785128,  0.52277697,  0.06541459, -0.19890157,\n",
       "       -0.73561001,  1.87484632,  0.64199154, -0.46052318,  2.13654886,\n",
       "       -1.32881448, -0.43631179,  0.31843757,  0.07365381,  0.00925361,\n",
       "        0.98324762,  1.85419269, -0.88153729,  1.55718206,  0.70920787,\n",
       "        1.52459367,  0.05897981, -0.33684165, -0.19324735,  0.1755697 ,\n",
       "        0.85876135, -1.8305854 , -0.77314897, -0.49409148, -0.57948078,\n",
       "       -0.93285663, -0.84393439, -0.52967467, -0.35840792,  0.70218259,\n",
       "        0.5512578 ,  0.732004  ,  0.04608107,  1.69233227, -0.25320355,\n",
       "        0.34647642, -1.20213165,  0.36395838, -0.09390626, -0.8693009 ,\n",
       "        0.47028601, -2.51950336, -0.54079007, -1.03993477,  0.71410455,\n",
       "        0.07297723,  0.36404413, -1.74832957,  1.23034302, -0.43015599,\n",
       "       -1.98992854, -0.03588409,  0.73108117, -0.03943137, -0.84401117,\n",
       "        0.34830134, -0.22456061,  0.92297795, -0.25321302,  0.52847788])"
      ]
     },
     "execution_count": 63,
     "metadata": {},
     "output_type": "execute_result"
    }
   ],
   "source": [
    "np.random.randn(100)"
   ]
  },
  {
   "cell_type": "code",
   "execution_count": 66,
   "id": "ac265e09-4499-4a1c-a4e8-e3dbe62b9434",
   "metadata": {},
   "outputs": [
    {
     "data": {
      "text/plain": [
       "(array([ 8.,  9., 23., 23., 18., 11.,  5.,  1.,  1.,  1.]),\n",
       " array([-1.88447122, -1.35294029, -0.82140935, -0.28987842,  0.24165252,\n",
       "         0.77318345,  1.30471439,  1.83624532,  2.36777625,  2.89930719,\n",
       "         3.43083812]),\n",
       " <BarContainer object of 10 artists>)"
      ]
     },
     "execution_count": 66,
     "metadata": {},
     "output_type": "execute_result"
    },
    {
     "data": {
      "image/png": "[encoded data removed]",
      "text/plain": [
       "<Figure size 640x480 with 1 Axes>"
      ]
     },
     "metadata": {},
     "output_type": "display_data"
    }
   ],
   "source": [
    "plt.hist(np.random.randn(100))"
   ]
  },
  {
   "cell_type": "code",
   "execution_count": 68,
   "id": "bb6b94d3-e4f4-49ce-a286-c8931fe0c0ee",
   "metadata": {},
   "outputs": [
    {
     "data": {
      "text/plain": [
       "(array([3., 9., 5., 2., 3., 4., 9., 7., 4., 4.]),\n",
       " array([13. , 21.5, 30. , 38.5, 47. , 55.5, 64. , 72.5, 81. , 89.5, 98. ]),\n",
       " <BarContainer object of 10 artists>)"
      ]
     },
     "execution_count": 68,
     "metadata": {},
     "output_type": "execute_result"
    },
    {
     "data": {
      "image/png": "[encoded data removed]",
      "text/plain": [
       "<Figure size 640x480 with 1 Axes>"
      ]
     },
     "metadata": {},
     "output_type": "display_data"
    }
   ],
   "source": [
    "plt.hist(np.random.randint(10,100,50))"
   ]
  },
  {
   "cell_type": "code",
   "execution_count": 71,
   "id": "25cca7b0-a816-4323-829e-6df3891c3548",
   "metadata": {},
   "outputs": [
    {
     "data": {
      "text/plain": [
       "(array([13.,  5., 13., 11., 11., 11.,  9., 10.,  7., 10.]),\n",
       " array([  2. , 101.3, 200.6, 299.9, 399.2, 498.5, 597.8, 697.1, 796.4,\n",
       "        895.7, 995. ]),\n",
       " <BarContainer object of 10 artists>)"
      ]
     },
     "execution_count": 71,
     "metadata": {},
     "output_type": "execute_result"
    },
    {
     "data": {
      "image/png": "[encoded data removed]",
      "text/plain": [
       "<Figure size 640x480 with 1 Axes>"
      ]
     },
     "metadata": {},
     "output_type": "display_data"
    }
   ],
   "source": [
    "from random import sample\n",
    "data = sample(range(1,1000),100)\n",
    "\n",
    "plt.hist(data)"
   ]
  },
  {
   "cell_type": "markdown",
   "id": "38c3dd9c-acb1-40bf-9cd0-495ffd1dd5bf",
   "metadata": {},
   "source": [
    "# Matplot:>"
   ]
  },
  {
   "cell_type": "code",
   "execution_count": 72,
   "id": "b9697ae2-1701-4d7b-83bb-d6bd90fbe2b0",
   "metadata": {},
   "outputs": [
    {
     "data": {
      "image/png": "[encoded data removed]",
      "text/plain": [
       "<Figure size 640x480 with 1 Axes>"
      ]
     },
     "metadata": {},
     "output_type": "display_data"
    }
   ],
   "source": [
    "import matplotlib.pyplot as plt\n",
    " \n",
    "fig, ax = plt.subplots()\n",
    " \n",
    "fruits = ['apple', 'blueberry', 'cherry', 'orange']\n",
    "counts = [40, 100, 30, 55]\n",
    "bar_labels = ['red', 'blue', '_red', 'orange']\n",
    "bar_colors = ['tab:red', 'tab:blue', 'tab:red', 'tab:orange']\n",
    " \n",
    "ax.bar(fruits, counts, label=bar_labels, color=bar_colors)\n",
    " \n",
    "ax.set_ylabel('fruit supply')\n",
    "ax.set_title('Fruit supply by kind and color')\n",
    "ax.legend(title='Fruit color')\n",
    " \n",
    "plt.show()"
   ]
  },
  {
   "cell_type": "code",
   "execution_count": 73,
   "id": "c884586a-e32a-4c9f-b945-815d4cf8f295",
   "metadata": {},
   "outputs": [
    {
     "data": {
      "text/plain": [
       "([<matplotlib.patches.Wedge at 0x1f1a15825d0>,\n",
       "  <matplotlib.patches.Wedge at 0x1f1a8a655e0>,\n",
       "  <matplotlib.patches.Wedge at 0x1f1a8a7b6e0>,\n",
       "  <matplotlib.patches.Wedge at 0x1f1a8a7a3c0>],\n",
       " [Text(0.9801071672559598, 0.4993895680663527, 'Frogs'),\n",
       "  Text(-0.33991877217145816, 1.046162142464278, 'Hogs'),\n",
       "  Text(-0.49938947630209474, -0.9801072140121813, 'Dogs'),\n",
       "  Text(1.0461621822461364, -0.3399186497354948, 'Logs')])"
      ]
     },
     "execution_count": 73,
     "metadata": {},
     "output_type": "execute_result"
    },
    {
     "data": {
      "image/png": "[encoded data removed]",
      "text/plain": [
       "<Figure size 640x480 with 1 Axes>"
      ]
     },
     "metadata": {},
     "output_type": "display_data"
    }
   ],
   "source": [
    "import matplotlib.pyplot as plt\n",
    " \n",
    "labels = 'Frogs', 'Hogs', 'Dogs', 'Logs'\n",
    "sizes = [15, 30, 45, 10]\n",
    " \n",
    "fig, ax = plt.subplots()\n",
    "ax.pie(sizes, labels=labels)"
   ]
  },
  {
   "cell_type": "code",
   "execution_count": null,
   "id": "3f12500b-4b97-4922-9eb9-44d4b0681466",
   "metadata": {},
   "outputs": [],
   "source": []
  }
 ],
 "metadata": {
  "kernelspec": {
   "display_name": "Python 3 (ipykernel)",
   "language": "python",
   "name": "python3"
  },
  "language_info": {
   "codemirror_mode": {
    "name": "ipython",
    "version": 3
   },
   "file_extension": ".py",
   "mimetype": "text/x-python",
   "name": "python",
   "nbconvert_exporter": "python",
   "pygments_lexer": "ipython3",
   "version": "3.12.3"
  }
 },
 "nbformat": 4,
 "nbformat_minor": 5
}
